{
 "cells": [
  {
   "cell_type": "code",
   "execution_count": 2,
   "metadata": {},
   "outputs": [],
   "source": [
    "import numpy as np\n",
    "import sympy as smp\n",
    "from sympy import *\n",
    "from IPython.display import display, Latex"
   ]
  },
  {
   "cell_type": "code",
   "execution_count": 3,
   "metadata": {},
   "outputs": [],
   "source": [
    "G, M, t, r, theta, phi, k, c = smp.symbols('G M t r θ Φ k c')\n",
    "a = smp.Function('a')\n",
    "a_dot = smp.Function('ȧ')\n",
    "a_Dot = smp.Function('ä')\n",
    "\n",
    "Gamma = IndexedBase(\"Gamma\")\n",
    "Riemann = IndexedBase(\"R\")"
   ]
  },
  {
   "cell_type": "code",
   "execution_count": 4,
   "metadata": {},
   "outputs": [],
   "source": [
    "Var = {\n",
    "    t : 0,\n",
    "    r : 1,\n",
    "    theta : 2,\n",
    "    phi : 3\n",
    "}"
   ]
  },
  {
   "cell_type": "code",
   "execution_count": 5,
   "metadata": {},
   "outputs": [],
   "source": [
    "Rav = {\n",
    "    0 : t,\n",
    "    1 : r,\n",
    "    2 : theta,\n",
    "    3 : phi\n",
    "}"
   ]
  },
  {
   "cell_type": "markdown",
   "metadata": {},
   "source": [
    "# Computing Ricci Tensor"
   ]
  },
  {
   "cell_type": "markdown",
   "metadata": {},
   "source": [
    "### $$R_{\\mu \\nu} = R^{\\alpha}_{\\mu \\alpha \\nu}$$"
   ]
  },
  {
   "cell_type": "code",
   "execution_count": 6,
   "metadata": {},
   "outputs": [],
   "source": [
    "# Compute Christoffel Symbols\n",
    "def Christoffel_Symbols(m, i, j, Metric):\n",
    "    inv_Metric = Metric.inv()\n",
    "    C = 0\n",
    "    \n",
    "    for l in range(4):\n",
    "        #print(1/2*inv_Metric[Var[m], l])\n",
    "        C += 1/2*inv_Metric[Var[m], l]*(smp.diff(Metric[Var[i],Var[m]], j)+smp.diff(Metric[Var[m],Var[j]], i)-smp.diff(Metric[Var[j],Var[i]], m))\n",
    "    return simplify(C)"
   ]
  },
  {
   "cell_type": "code",
   "execution_count": 7,
   "metadata": {},
   "outputs": [],
   "source": [
    "# Compute all Christoffel Symbols\n",
    "def All_Christoffel_Symbols(Metric):\n",
    "    All_C = np.zeros((4,4,4), dtype=object)\n",
    "    \n",
    "    for k in range(4):\n",
    "        for i in range(4):\n",
    "            for j in range(4):\n",
    "                c = Christoffel_Symbols(Rav[k], Rav[i], Rav[j], Metric)\n",
    "                if c != 0 :\n",
    "                    All_C[k,i,j] = smp.nsimplify(c)\n",
    "                    #display(Latex('$' + latex(Gamma[Rav[i],Rav[j]]**Rav[k]) + ' = ' + latex(c) + '$'))\n",
    "    \n",
    "    return All_C"
   ]
  },
  {
   "cell_type": "code",
   "execution_count": 8,
   "metadata": {},
   "outputs": [],
   "source": [
    "# Compute Riemann Tensor component\n",
    "def Rie(alpha, beta, mu, nu, Metric, All_C):\n",
    "    G1 = 0\n",
    "    G2 = 0\n",
    "    \n",
    "    for k in (t,r,theta,phi):\n",
    "        All_C\n",
    "        G1 += All_C[Var[alpha], Var[mu], Var[k]] * All_C[Var[k], Var[beta], Var[nu]]\n",
    "        G2 += All_C[Var[alpha], Var[nu], Var[k]] * All_C[Var[k], Var[beta], Var[mu]]\n",
    "        \n",
    "    return simplify(smp.diff(All_C[Var[alpha], Var[beta], Var[nu]], mu) - smp.diff(All_C[Var[alpha], Var[beta], Var[mu]], nu) + G1 - G2)"
   ]
  },
  {
   "cell_type": "code",
   "execution_count": 9,
   "metadata": {},
   "outputs": [],
   "source": [
    "# Compute all Riemann Tensor components\n",
    "def All_Riemann(Metric):\n",
    "    All_C = All_Christoffel_Symbols(Metric)\n",
    "    All_R = np.zeros((4,4,4,4), dtype=object)\n",
    "    \n",
    "    for i in range(4):\n",
    "        for j in range(4):\n",
    "            for l in range(4):\n",
    "                for m in range(4):\n",
    "                    R = Rie(Rav[i], Rav[j], Rav[l], Rav[m], Metric, All_C)\n",
    "                    if R != 0 :\n",
    "                        All_R[i,j,l,m] = R\n",
    "                        #display(Latex('$' + latex(Riemann[Rav[j],Rav[l],Rav[m]]**Rav[i]) + ' = ' + latex(R) + '$'))\n",
    "    return All_R"
   ]
  },
  {
   "cell_type": "code",
   "execution_count": 10,
   "metadata": {},
   "outputs": [],
   "source": [
    "# Compute Ricci tensor components\n",
    "def Ricci(mu,nu,Metric,All_R):\n",
    "    Ri = 0\n",
    "    for alpha in (t,r,theta,phi):\n",
    "        Ri += All_R[Var[alpha],Var[mu],Var[alpha],Var[nu]]\n",
    "    return simplify(Ri)"
   ]
  },
  {
   "cell_type": "code",
   "execution_count": 11,
   "metadata": {},
   "outputs": [],
   "source": [
    "# Compute all Ricci tensor components\n",
    "def All_Ricci(Metric):\n",
    "    All_R = All_Riemann(Metric)\n",
    "    All_Ri = np.zeros((4,4), dtype=object)\n",
    "\n",
    "    for mu in range(4):\n",
    "        for nu in range(4):\n",
    "            Ri = Ricci(Rav[mu],Rav[nu],Metric,All_R)\n",
    "            if Ri != 0:\n",
    "                All_Ri[mu,nu] = Ri\n",
    "                display(Latex('$' + latex(Riemann[Rav[mu],Rav[nu]]) + ' = ' + latex(Ri.subs([ (smp.diff(a(t),t,2), a_Dot(t)) , (smp.diff(a(t),t), a_dot(t)) ]) ) + '$'))\n",
    "    return All_Ri\n"
   ]
  },
  {
   "cell_type": "code",
   "execution_count": null,
   "metadata": {},
   "outputs": [],
   "source": []
  },
  {
   "cell_type": "markdown",
   "metadata": {},
   "source": [
    "### Minkowski Metric"
   ]
  },
  {
   "cell_type": "code",
   "execution_count": 12,
   "metadata": {},
   "outputs": [],
   "source": [
    "# Convention (-+++)\n",
    "Mink_Metric = np.array([[-1, 0, 0, 0], [0, 1, 0, 0], [0, 0, 1, 0], [0, 0, 0, 1]])\n",
    "Mink = smp.Matrix(Mink_Metric)"
   ]
  },
  {
   "cell_type": "code",
   "execution_count": 16,
   "metadata": {},
   "outputs": [
    {
     "data": {
      "text/latex": [
       "$\\displaystyle \\left[\\begin{matrix}-1 & 0 & 0 & 0\\\\0 & 1 & 0 & 0\\\\0 & 0 & 1 & 0\\\\0 & 0 & 0 & 1\\end{matrix}\\right]$"
      ],
      "text/plain": [
       "Matrix([\n",
       "[-1, 0, 0, 0],\n",
       "[ 0, 1, 0, 0],\n",
       "[ 0, 0, 1, 0],\n",
       "[ 0, 0, 0, 1]])"
      ]
     },
     "execution_count": 16,
     "metadata": {},
     "output_type": "execute_result"
    }
   ],
   "source": [
    "Mink"
   ]
  },
  {
   "cell_type": "code",
   "execution_count": 17,
   "metadata": {},
   "outputs": [],
   "source": [
    "All_Ri_Mink = All_Ricci(Mink)"
   ]
  },
  {
   "cell_type": "code",
   "execution_count": null,
   "metadata": {},
   "outputs": [
    {
     "data": {
      "text/latex": [
       "$\\displaystyle \\left[\\begin{matrix}0 & 0 & 0 & 0\\\\0 & 0 & 0 & 0\\\\0 & 0 & 0 & 0\\\\0 & 0 & 0 & 0\\end{matrix}\\right]$"
      ],
      "text/plain": [
       "Matrix([\n",
       "[0, 0, 0, 0],\n",
       "[0, 0, 0, 0],\n",
       "[0, 0, 0, 0],\n",
       "[0, 0, 0, 0]])"
      ]
     },
     "execution_count": 18,
     "metadata": {},
     "output_type": "execute_result"
    }
   ],
   "source": [
    "smp.Matrix(All_Ri_Mink)"
   ]
  },
  {
   "cell_type": "markdown",
   "metadata": {},
   "source": [
    "### Swcharzschil Metric"
   ]
  },
  {
   "cell_type": "code",
   "execution_count": 13,
   "metadata": {},
   "outputs": [],
   "source": [
    "# Convention (-+++)\n",
    "S_Metric = np.zeros((4,4))\n",
    "S = smp.Matrix(S_Metric)\n",
    "\n",
    "S[0,0] = -(1-2*G*M/r)\n",
    "S[1,1] = 1/(1-2*G*M/r)\n",
    "S[2,2] = r**2\n",
    "S[3,3] = r**2*smp.sin(theta)**2\n",
    "\n",
    "S = smp.nsimplify(S)"
   ]
  },
  {
   "cell_type": "code",
   "execution_count": 14,
   "metadata": {},
   "outputs": [
    {
     "data": {
      "text/latex": [
       "$\\displaystyle \\left[\\begin{matrix}\\frac{2 G M}{r} - 1 & 0 & 0 & 0\\\\0 & \\frac{1}{- \\frac{2 G M}{r} + 1} & 0 & 0\\\\0 & 0 & r^{2} & 0\\\\0 & 0 & 0 & r^{2} \\sin^{2}{\\left(θ \\right)}\\end{matrix}\\right]$"
      ],
      "text/plain": [
       "Matrix([\n",
       "[2*G*M/r - 1,                0,    0,              0],\n",
       "[          0, 1/(-2*G*M/r + 1),    0,              0],\n",
       "[          0,                0, r**2,              0],\n",
       "[          0,                0,    0, r**2*sin(θ)**2]])"
      ]
     },
     "execution_count": 14,
     "metadata": {},
     "output_type": "execute_result"
    }
   ],
   "source": [
    "S"
   ]
  },
  {
   "cell_type": "code",
   "execution_count": null,
   "metadata": {},
   "outputs": [
    {
     "data": {
      "text/latex": [
       "$\\displaystyle \\left[\\begin{matrix}0 & 0 & 0 & 0\\\\0 & 0 & 0 & 0\\\\0 & 0 & 0 & 0\\\\0 & 0 & 0 & 0\\end{matrix}\\right]$"
      ],
      "text/plain": [
       "Matrix([\n",
       "[0, 0, 0, 0],\n",
       "[0, 0, 0, 0],\n",
       "[0, 0, 0, 0],\n",
       "[0, 0, 0, 0]])"
      ]
     },
     "execution_count": 15,
     "metadata": {},
     "output_type": "execute_result"
    }
   ],
   "source": [
    "All_Ri_FLRW = All_Ricci(S)\n",
    "smp.Matrix(All_Ri_FLRW)"
   ]
  },
  {
   "cell_type": "markdown",
   "metadata": {},
   "source": [
    "### FLRW Metric"
   ]
  },
  {
   "cell_type": "code",
   "execution_count": 58,
   "metadata": {},
   "outputs": [],
   "source": [
    "# Convention (+---)\n",
    "FLRW_Metric = np.zeros((4,4))\n",
    "FLRW = smp.Matrix(FLRW_Metric)\n",
    "\n",
    "FLRW[0,0] = c**2\n",
    "FLRW[1,1] = -a(t)**2/(1-k*r**2)\n",
    "FLRW[2,2] = -a(t)**2*r**2\n",
    "FLRW[3,3] = -a(t)**2*r**2*smp.sin(theta)**2\n",
    "\n",
    "FLRW = smp.nsimplify(FLRW)"
   ]
  },
  {
   "cell_type": "code",
   "execution_count": 59,
   "metadata": {},
   "outputs": [
    {
     "data": {
      "text/latex": [
       "$\\displaystyle \\left[\\begin{matrix}c^{2} & 0 & 0 & 0\\\\0 & - \\frac{a^{2}{\\left(t \\right)}}{- k r^{2} + 1} & 0 & 0\\\\0 & 0 & - r^{2} a^{2}{\\left(t \\right)} & 0\\\\0 & 0 & 0 & - r^{2} a^{2}{\\left(t \\right)} \\sin^{2}{\\left(θ \\right)}\\end{matrix}\\right]$"
      ],
      "text/plain": [
       "Matrix([\n",
       "[c**2,                      0,             0,                       0],\n",
       "[   0, -a(t)**2/(-k*r**2 + 1),             0,                       0],\n",
       "[   0,                      0, -r**2*a(t)**2,                       0],\n",
       "[   0,                      0,             0, -r**2*a(t)**2*sin(θ)**2]])"
      ]
     },
     "execution_count": 59,
     "metadata": {},
     "output_type": "execute_result"
    }
   ],
   "source": [
    "FLRW"
   ]
  },
  {
   "cell_type": "code",
   "execution_count": 75,
   "metadata": {},
   "outputs": [
    {
     "data": {
      "text/latex": [
       "${R}_{t,t} = - \\frac{3 ä{\\left(t \\right)}}{a{\\left(t \\right)}}$"
      ],
      "text/plain": [
       "<IPython.core.display.Latex object>"
      ]
     },
     "metadata": {},
     "output_type": "display_data"
    },
    {
     "data": {
      "text/latex": [
       "${R}_{r,r} = \\frac{- 2 c^{2} k - a{\\left(t \\right)} ä{\\left(t \\right)} - 2 ȧ^{2}{\\left(t \\right)}}{c^{2} \\left(k r^{2} - 1\\right)}$"
      ],
      "text/plain": [
       "<IPython.core.display.Latex object>"
      ]
     },
     "metadata": {},
     "output_type": "display_data"
    },
    {
     "data": {
      "text/latex": [
       "${R}_{θ,θ} = \\frac{r^{2} \\left(2 c^{2} k + a{\\left(t \\right)} ä{\\left(t \\right)} + 2 ȧ^{2}{\\left(t \\right)}\\right)}{c^{2}}$"
      ],
      "text/plain": [
       "<IPython.core.display.Latex object>"
      ]
     },
     "metadata": {},
     "output_type": "display_data"
    },
    {
     "data": {
      "text/latex": [
       "${R}_{Φ,Φ} = \\frac{r^{2} \\left(2 c^{2} k + a{\\left(t \\right)} ä{\\left(t \\right)} + 2 ȧ^{2}{\\left(t \\right)}\\right) \\sin^{2}{\\left(θ \\right)}}{c^{2}}$"
      ],
      "text/plain": [
       "<IPython.core.display.Latex object>"
      ]
     },
     "metadata": {},
     "output_type": "display_data"
    }
   ],
   "source": [
    "All_Ri_FLRW = All_Ricci(FLRW)"
   ]
  }
 ],
 "metadata": {
  "kernelspec": {
   "display_name": "Python 3",
   "language": "python",
   "name": "python3"
  },
  "language_info": {
   "codemirror_mode": {
    "name": "ipython",
    "version": 3
   },
   "file_extension": ".py",
   "mimetype": "text/x-python",
   "name": "python",
   "nbconvert_exporter": "python",
   "pygments_lexer": "ipython3",
   "version": "3.10.11"
  }
 },
 "nbformat": 4,
 "nbformat_minor": 2
}
