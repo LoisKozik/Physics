{
 "cells": [
  {
   "cell_type": "code",
   "execution_count": 1,
   "metadata": {},
   "outputs": [],
   "source": [
    "import numpy as np\n",
    "import sympy as smp\n",
    "from sympy import *\n",
    "from IPython.display import display, Latex"
   ]
  },
  {
   "cell_type": "code",
   "execution_count": 2,
   "metadata": {},
   "outputs": [],
   "source": [
    "G, M, t, r, theta, phi, k, c = smp.symbols('G M t r θ Φ k c')\n",
    "a = smp.Function('a')\n",
    "a_dot = smp.Function('ȧ')\n",
    "\n",
    "Gamma = IndexedBase(\"Gamma\")\n",
    "Riemann = IndexedBase(\"R\")"
   ]
  },
  {
   "cell_type": "code",
   "execution_count": 3,
   "metadata": {},
   "outputs": [],
   "source": [
    "Var = {\n",
    "    t : 0,\n",
    "    r : 1,\n",
    "    theta : 2,\n",
    "    phi : 3\n",
    "}"
   ]
  },
  {
   "cell_type": "code",
   "execution_count": 4,
   "metadata": {},
   "outputs": [],
   "source": [
    "Rav = {\n",
    "    0 : t,\n",
    "    1 : r,\n",
    "    2 : theta,\n",
    "    3 : phi\n",
    "}"
   ]
  },
  {
   "cell_type": "markdown",
   "metadata": {},
   "source": [
    "# Computing Riemann Tensor"
   ]
  },
  {
   "cell_type": "markdown",
   "metadata": {},
   "source": [
    "### $$R^\\alpha{}_{\\beta\\mu\\nu}=\\partial_\\mu\\Gamma^\\alpha{}_{\\nu\\beta}-\\partial_\\nu\\Gamma^\\alpha{}_{\\mu\\beta}+\\Gamma^\\alpha{}_{\\mu\\lambda}\\Gamma^\\lambda{}_{\\nu\\beta}-\\Gamma^\\alpha{}_{\\nu\\lambda}\\Gamma^\\lambda{}_{\\mu\\beta}$$"
   ]
  },
  {
   "cell_type": "code",
   "execution_count": 5,
   "metadata": {},
   "outputs": [],
   "source": [
    "# Compute Christoffel Symbols\n",
    "def Christoffel_Symbols(m, i, j, Metric):\n",
    "    inv_Metric = Metric.inv()\n",
    "    C = 0\n",
    "    for l in range(4):\n",
    "        C += 1/2*inv_Metric[Var[m], l]*(smp.diff(Metric[Var[i],Var[m]], j)+smp.diff(Metric[Var[m],Var[j]], i)-smp.diff(Metric[Var[j],Var[i]], m))\n",
    "    return simplify(C)"
   ]
  },
  {
   "cell_type": "code",
   "execution_count": 6,
   "metadata": {},
   "outputs": [],
   "source": [
    "# Compute all Christoffel Symbols\n",
    "def All_Christoffel_Symbols(Metric):\n",
    "    All_C = np.zeros((4,4,4), dtype=object)\n",
    "    for k in range(4):\n",
    "        for i in range(4):\n",
    "            for j in range(4):\n",
    "                c = Christoffel_Symbols(Rav[k], Rav[i], Rav[j], Metric)\n",
    "                if c != 0 :\n",
    "                    All_C[k,i,j] = smp.nsimplify(c)\n",
    "                    #display(Latex('$' + latex(Gamma[Rav[i],Rav[j]]**Rav[k]) + ' = ' + latex(c) + '$'))\n",
    "    \n",
    "    return All_C"
   ]
  },
  {
   "cell_type": "code",
   "execution_count": 7,
   "metadata": {},
   "outputs": [],
   "source": [
    "# Compute Riemann Tensor component\n",
    "def Rie(alpha, beta, mu, nu, Metric, All_C):\n",
    "    G1 = 0\n",
    "    G2 = 0\n",
    "    for k in (t,r,theta,phi):\n",
    "        All_C\n",
    "        G1 += All_C[Var[alpha], Var[mu], Var[k]] * All_C[Var[k], Var[beta], Var[nu]]\n",
    "        G2 += All_C[Var[alpha], Var[nu], Var[k]] * All_C[Var[k], Var[beta], Var[mu]]\n",
    "        \n",
    "    return simplify(smp.diff(All_C[Var[alpha], Var[beta], Var[nu]], mu) - smp.diff(All_C[Var[alpha], Var[beta], Var[mu]], nu) + G1 - G2)"
   ]
  },
  {
   "cell_type": "code",
   "execution_count": 8,
   "metadata": {},
   "outputs": [],
   "source": [
    "# Compute all Riemann Tensor components\n",
    "def All_r(Metric):\n",
    "    All_C = All_Christoffel_Symbols(Metric)\n",
    "    All_R = np.zeros((4,4,4,4), dtype=object)\n",
    "    for i in range(4):\n",
    "        for j in range(4):\n",
    "            for l in range(4):\n",
    "                for m in range(4):\n",
    "                    R = Rie(Rav[i], Rav[j], Rav[l], Rav[m], Metric, All_C)\n",
    "                    if R != 0 :\n",
    "                        All_R[i,j,l,m] = R\n",
    "                        display(Latex('$' + latex(Riemann[Rav[j],Rav[l],Rav[m]]**Rav[i]) + ' = ' + latex(R) + '$'))\n",
    "    return All_R"
   ]
  },
  {
   "cell_type": "code",
   "execution_count": null,
   "metadata": {},
   "outputs": [],
   "source": []
  },
  {
   "cell_type": "markdown",
   "metadata": {},
   "source": [
    "### Minkowski Metric"
   ]
  },
  {
   "cell_type": "code",
   "execution_count": 9,
   "metadata": {},
   "outputs": [],
   "source": [
    "# Convention (-+++)\n",
    "Mink_Metric = np.array([[-1, 0, 0, 0], [0, 1, 0, 0], [0, 0, 1, 0], [0, 0, 0, 1]])\n",
    "Mink = smp.Matrix(Mink_Metric)"
   ]
  },
  {
   "cell_type": "code",
   "execution_count": 10,
   "metadata": {},
   "outputs": [
    {
     "data": {
      "text/latex": [
       "$\\displaystyle \\left[\\begin{matrix}-1 & 0 & 0 & 0\\\\0 & 1 & 0 & 0\\\\0 & 0 & 1 & 0\\\\0 & 0 & 0 & 1\\end{matrix}\\right]$"
      ],
      "text/plain": [
       "Matrix([\n",
       "[-1, 0, 0, 0],\n",
       "[ 0, 1, 0, 0],\n",
       "[ 0, 0, 1, 0],\n",
       "[ 0, 0, 0, 1]])"
      ]
     },
     "execution_count": 10,
     "metadata": {},
     "output_type": "execute_result"
    }
   ],
   "source": [
    "Mink"
   ]
  },
  {
   "cell_type": "code",
   "execution_count": 14,
   "metadata": {},
   "outputs": [],
   "source": [
    "All_R_Mink = All_r(Mink)"
   ]
  },
  {
   "cell_type": "markdown",
   "metadata": {},
   "source": [
    "### Schwarschil Metric"
   ]
  },
  {
   "cell_type": "code",
   "execution_count": 14,
   "metadata": {},
   "outputs": [],
   "source": [
    "# Convention (-+++)\n",
    "S_Metric = np.zeros((4,4))\n",
    "S = smp.Matrix(S_Metric)\n",
    "\n",
    "S[0,0] = -(1-2*G*M/r)\n",
    "S[1,1] = 1/(1-2*G*M/r)\n",
    "S[2,2] = r**2\n",
    "S[3,3] = r**2*smp.sin(theta)**2\n",
    "\n",
    "S = smp.nsimplify(S)"
   ]
  },
  {
   "cell_type": "code",
   "execution_count": 15,
   "metadata": {},
   "outputs": [
    {
     "data": {
      "text/latex": [
       "$\\displaystyle \\left[\\begin{matrix}\\frac{2 G M}{r} - 1 & 0 & 0 & 0\\\\0 & \\frac{1}{- \\frac{2 G M}{r} + 1} & 0 & 0\\\\0 & 0 & r^{2} & 0\\\\0 & 0 & 0 & r^{2} \\sin^{2}{\\left(θ \\right)}\\end{matrix}\\right]$"
      ],
      "text/plain": [
       "Matrix([\n",
       "[2*G*M/r - 1,                0,    0,              0],\n",
       "[          0, 1/(-2*G*M/r + 1),    0,              0],\n",
       "[          0,                0, r**2,              0],\n",
       "[          0,                0,    0, r**2*sin(θ)**2]])"
      ]
     },
     "execution_count": 15,
     "metadata": {},
     "output_type": "execute_result"
    }
   ],
   "source": [
    "S"
   ]
  },
  {
   "cell_type": "code",
   "execution_count": 18,
   "metadata": {},
   "outputs": [
    {
     "data": {
      "text/latex": [
       "${R}_{r,t,r}^{t} = \\frac{2 G M}{r^{2} \\left(- 2 G M + r\\right)}$"
      ],
      "text/plain": [
       "<IPython.core.display.Latex object>"
      ]
     },
     "metadata": {},
     "output_type": "display_data"
    },
    {
     "data": {
      "text/latex": [
       "${R}_{r,r,t}^{t} = \\frac{2 G M}{r^{2} \\left(2 G M - r\\right)}$"
      ],
      "text/plain": [
       "<IPython.core.display.Latex object>"
      ]
     },
     "metadata": {},
     "output_type": "display_data"
    },
    {
     "data": {
      "text/latex": [
       "${R}_{θ,t,θ}^{t} = - \\frac{G M}{r}$"
      ],
      "text/plain": [
       "<IPython.core.display.Latex object>"
      ]
     },
     "metadata": {},
     "output_type": "display_data"
    },
    {
     "data": {
      "text/latex": [
       "${R}_{θ,θ,t}^{t} = \\frac{G M}{r}$"
      ],
      "text/plain": [
       "<IPython.core.display.Latex object>"
      ]
     },
     "metadata": {},
     "output_type": "display_data"
    },
    {
     "data": {
      "text/latex": [
       "${R}_{Φ,t,Φ}^{t} = - \\frac{G M \\sin^{2}{\\left(θ \\right)}}{r}$"
      ],
      "text/plain": [
       "<IPython.core.display.Latex object>"
      ]
     },
     "metadata": {},
     "output_type": "display_data"
    },
    {
     "data": {
      "text/latex": [
       "${R}_{Φ,Φ,t}^{t} = \\frac{G M \\sin^{2}{\\left(θ \\right)}}{r}$"
      ],
      "text/plain": [
       "<IPython.core.display.Latex object>"
      ]
     },
     "metadata": {},
     "output_type": "display_data"
    },
    {
     "data": {
      "text/latex": [
       "${R}_{t,t,r}^{r} = \\frac{2 G M \\left(- 2 G M + r\\right)}{r^{4}}$"
      ],
      "text/plain": [
       "<IPython.core.display.Latex object>"
      ]
     },
     "metadata": {},
     "output_type": "display_data"
    },
    {
     "data": {
      "text/latex": [
       "${R}_{t,r,t}^{r} = \\frac{2 G M \\left(2 G M - r\\right)}{r^{4}}$"
      ],
      "text/plain": [
       "<IPython.core.display.Latex object>"
      ]
     },
     "metadata": {},
     "output_type": "display_data"
    },
    {
     "data": {
      "text/latex": [
       "${R}_{θ,r,θ}^{r} = - \\frac{G M}{r}$"
      ],
      "text/plain": [
       "<IPython.core.display.Latex object>"
      ]
     },
     "metadata": {},
     "output_type": "display_data"
    },
    {
     "data": {
      "text/latex": [
       "${R}_{θ,θ,r}^{r} = \\frac{G M}{r}$"
      ],
      "text/plain": [
       "<IPython.core.display.Latex object>"
      ]
     },
     "metadata": {},
     "output_type": "display_data"
    },
    {
     "data": {
      "text/latex": [
       "${R}_{Φ,r,Φ}^{r} = - \\frac{G M \\sin^{2}{\\left(θ \\right)}}{r}$"
      ],
      "text/plain": [
       "<IPython.core.display.Latex object>"
      ]
     },
     "metadata": {},
     "output_type": "display_data"
    },
    {
     "data": {
      "text/latex": [
       "${R}_{Φ,Φ,r}^{r} = \\frac{G M \\sin^{2}{\\left(θ \\right)}}{r}$"
      ],
      "text/plain": [
       "<IPython.core.display.Latex object>"
      ]
     },
     "metadata": {},
     "output_type": "display_data"
    },
    {
     "data": {
      "text/latex": [
       "${R}_{t,t,θ}^{θ} = \\frac{G M \\left(2 G M - r\\right)}{r^{4}}$"
      ],
      "text/plain": [
       "<IPython.core.display.Latex object>"
      ]
     },
     "metadata": {},
     "output_type": "display_data"
    },
    {
     "data": {
      "text/latex": [
       "${R}_{t,θ,t}^{θ} = \\frac{G M \\left(- 2 G M + r\\right)}{r^{4}}$"
      ],
      "text/plain": [
       "<IPython.core.display.Latex object>"
      ]
     },
     "metadata": {},
     "output_type": "display_data"
    },
    {
     "data": {
      "text/latex": [
       "${R}_{r,r,θ}^{θ} = \\frac{G M}{r^{2} \\left(- 2 G M + r\\right)}$"
      ],
      "text/plain": [
       "<IPython.core.display.Latex object>"
      ]
     },
     "metadata": {},
     "output_type": "display_data"
    },
    {
     "data": {
      "text/latex": [
       "${R}_{r,θ,r}^{θ} = \\frac{G M}{r^{2} \\left(2 G M - r\\right)}$"
      ],
      "text/plain": [
       "<IPython.core.display.Latex object>"
      ]
     },
     "metadata": {},
     "output_type": "display_data"
    },
    {
     "data": {
      "text/latex": [
       "${R}_{Φ,θ,Φ}^{θ} = \\frac{2 G M \\sin^{2}{\\left(θ \\right)}}{r}$"
      ],
      "text/plain": [
       "<IPython.core.display.Latex object>"
      ]
     },
     "metadata": {},
     "output_type": "display_data"
    },
    {
     "data": {
      "text/latex": [
       "${R}_{Φ,Φ,θ}^{θ} = - \\frac{2 G M \\sin^{2}{\\left(θ \\right)}}{r}$"
      ],
      "text/plain": [
       "<IPython.core.display.Latex object>"
      ]
     },
     "metadata": {},
     "output_type": "display_data"
    },
    {
     "data": {
      "text/latex": [
       "${R}_{t,t,Φ}^{Φ} = \\frac{G M \\left(2 G M - r\\right)}{r^{4}}$"
      ],
      "text/plain": [
       "<IPython.core.display.Latex object>"
      ]
     },
     "metadata": {},
     "output_type": "display_data"
    },
    {
     "data": {
      "text/latex": [
       "${R}_{t,Φ,t}^{Φ} = \\frac{G M \\left(- 2 G M + r\\right)}{r^{4}}$"
      ],
      "text/plain": [
       "<IPython.core.display.Latex object>"
      ]
     },
     "metadata": {},
     "output_type": "display_data"
    },
    {
     "data": {
      "text/latex": [
       "${R}_{r,r,Φ}^{Φ} = \\frac{G M}{r^{2} \\left(- 2 G M + r\\right)}$"
      ],
      "text/plain": [
       "<IPython.core.display.Latex object>"
      ]
     },
     "metadata": {},
     "output_type": "display_data"
    },
    {
     "data": {
      "text/latex": [
       "${R}_{r,Φ,r}^{Φ} = \\frac{G M}{r^{2} \\left(2 G M - r\\right)}$"
      ],
      "text/plain": [
       "<IPython.core.display.Latex object>"
      ]
     },
     "metadata": {},
     "output_type": "display_data"
    },
    {
     "data": {
      "text/latex": [
       "${R}_{θ,θ,Φ}^{Φ} = - \\frac{2 G M}{r}$"
      ],
      "text/plain": [
       "<IPython.core.display.Latex object>"
      ]
     },
     "metadata": {},
     "output_type": "display_data"
    },
    {
     "data": {
      "text/latex": [
       "${R}_{θ,Φ,θ}^{Φ} = \\frac{2 G M}{r}$"
      ],
      "text/plain": [
       "<IPython.core.display.Latex object>"
      ]
     },
     "metadata": {},
     "output_type": "display_data"
    }
   ],
   "source": [
    "All_R_S = All_r(S)"
   ]
  },
  {
   "cell_type": "markdown",
   "metadata": {},
   "source": [
    "### FLRW Metric"
   ]
  },
  {
   "cell_type": "code",
   "execution_count": 27,
   "metadata": {},
   "outputs": [],
   "source": [
    "# Convention (+---)\n",
    "FLRW_Metric = np.zeros((4,4))\n",
    "FLRW = smp.Matrix(FLRW_Metric)\n",
    "\n",
    "FLRW[0,0] = c**2\n",
    "FLRW[1,1] = -a(t)**2/(1-k*r**2)\n",
    "FLRW[2,2] = -a(t)**2*r**2\n",
    "FLRW[3,3] = -a(t)**2*r**2*smp.sin(theta)**2\n",
    "\n",
    "FLRW = smp.nsimplify(FLRW)"
   ]
  },
  {
   "cell_type": "code",
   "execution_count": 28,
   "metadata": {},
   "outputs": [
    {
     "data": {
      "text/latex": [
       "$\\displaystyle \\left[\\begin{matrix}c^{2} & 0 & 0 & 0\\\\0 & - \\frac{a^{2}{\\left(t \\right)}}{- k r^{2} + 1} & 0 & 0\\\\0 & 0 & - r^{2} a^{2}{\\left(t \\right)} & 0\\\\0 & 0 & 0 & - r^{2} a^{2}{\\left(t \\right)} \\sin^{2}{\\left(θ \\right)}\\end{matrix}\\right]$"
      ],
      "text/plain": [
       "Matrix([\n",
       "[c**2,                      0,             0,                       0],\n",
       "[   0, -a(t)**2/(-k*r**2 + 1),             0,                       0],\n",
       "[   0,                      0, -r**2*a(t)**2,                       0],\n",
       "[   0,                      0,             0, -r**2*a(t)**2*sin(θ)**2]])"
      ]
     },
     "execution_count": 28,
     "metadata": {},
     "output_type": "execute_result"
    }
   ],
   "source": [
    "FLRW"
   ]
  },
  {
   "cell_type": "code",
   "execution_count": 30,
   "metadata": {},
   "outputs": [
    {
     "data": {
      "text/latex": [
       "${R}_{r,t,r}^{t} = - \\frac{a{\\left(t \\right)} \\frac{d^{2}}{d t^{2}} a{\\left(t \\right)}}{c^{2} \\left(k r^{2} - 1\\right)}$"
      ],
      "text/plain": [
       "<IPython.core.display.Latex object>"
      ]
     },
     "metadata": {},
     "output_type": "display_data"
    },
    {
     "data": {
      "text/latex": [
       "${R}_{r,r,t}^{t} = \\frac{a{\\left(t \\right)} \\frac{d^{2}}{d t^{2}} a{\\left(t \\right)}}{c^{2} \\left(k r^{2} - 1\\right)}$"
      ],
      "text/plain": [
       "<IPython.core.display.Latex object>"
      ]
     },
     "metadata": {},
     "output_type": "display_data"
    },
    {
     "data": {
      "text/latex": [
       "${R}_{θ,t,θ}^{t} = \\frac{r^{2} a{\\left(t \\right)} \\frac{d^{2}}{d t^{2}} a{\\left(t \\right)}}{c^{2}}$"
      ],
      "text/plain": [
       "<IPython.core.display.Latex object>"
      ]
     },
     "metadata": {},
     "output_type": "display_data"
    },
    {
     "data": {
      "text/latex": [
       "${R}_{θ,θ,t}^{t} = - \\frac{r^{2} a{\\left(t \\right)} \\frac{d^{2}}{d t^{2}} a{\\left(t \\right)}}{c^{2}}$"
      ],
      "text/plain": [
       "<IPython.core.display.Latex object>"
      ]
     },
     "metadata": {},
     "output_type": "display_data"
    },
    {
     "data": {
      "text/latex": [
       "${R}_{Φ,t,Φ}^{t} = \\frac{r^{2} a{\\left(t \\right)} \\sin^{2}{\\left(θ \\right)} \\frac{d^{2}}{d t^{2}} a{\\left(t \\right)}}{c^{2}}$"
      ],
      "text/plain": [
       "<IPython.core.display.Latex object>"
      ]
     },
     "metadata": {},
     "output_type": "display_data"
    },
    {
     "data": {
      "text/latex": [
       "${R}_{Φ,θ,Φ}^{t} = \\frac{r^{2} \\left(\\sin{\\left(2 θ \\right)} \\tan{\\left(θ \\right)} + \\cos{\\left(2 θ \\right)} - 1\\right) a{\\left(t \\right)} \\frac{d}{d t} a{\\left(t \\right)}}{2 c^{2} \\tan{\\left(θ \\right)}}$"
      ],
      "text/plain": [
       "<IPython.core.display.Latex object>"
      ]
     },
     "metadata": {},
     "output_type": "display_data"
    },
    {
     "data": {
      "text/latex": [
       "${R}_{Φ,Φ,t}^{t} = - \\frac{r^{2} a{\\left(t \\right)} \\sin^{2}{\\left(θ \\right)} \\frac{d^{2}}{d t^{2}} a{\\left(t \\right)}}{c^{2}}$"
      ],
      "text/plain": [
       "<IPython.core.display.Latex object>"
      ]
     },
     "metadata": {},
     "output_type": "display_data"
    },
    {
     "data": {
      "text/latex": [
       "${R}_{t,t,r}^{r} = \\frac{\\frac{d^{2}}{d t^{2}} a{\\left(t \\right)}}{a{\\left(t \\right)}}$"
      ],
      "text/plain": [
       "<IPython.core.display.Latex object>"
      ]
     },
     "metadata": {},
     "output_type": "display_data"
    },
    {
     "data": {
      "text/latex": [
       "${R}_{t,r,t}^{r} = - \\frac{\\frac{d^{2}}{d t^{2}} a{\\left(t \\right)}}{a{\\left(t \\right)}}$"
      ],
      "text/plain": [
       "<IPython.core.display.Latex object>"
      ]
     },
     "metadata": {},
     "output_type": "display_data"
    },
    {
     "data": {
      "text/latex": [
       "${R}_{θ,r,θ}^{r} = \\frac{r^{2} \\left(c^{2} k + \\left(\\frac{d}{d t} a{\\left(t \\right)}\\right)^{2}\\right)}{c^{2}}$"
      ],
      "text/plain": [
       "<IPython.core.display.Latex object>"
      ]
     },
     "metadata": {},
     "output_type": "display_data"
    },
    {
     "data": {
      "text/latex": [
       "${R}_{θ,θ,r}^{r} = \\frac{r^{2} \\left(- c^{2} k - \\left(\\frac{d}{d t} a{\\left(t \\right)}\\right)^{2}\\right)}{c^{2}}$"
      ],
      "text/plain": [
       "<IPython.core.display.Latex object>"
      ]
     },
     "metadata": {},
     "output_type": "display_data"
    },
    {
     "data": {
      "text/latex": [
       "${R}_{Φ,r,Φ}^{r} = \\frac{r^{2} \\left(c^{2} k + \\left(\\frac{d}{d t} a{\\left(t \\right)}\\right)^{2}\\right) \\sin^{2}{\\left(θ \\right)}}{c^{2}}$"
      ],
      "text/plain": [
       "<IPython.core.display.Latex object>"
      ]
     },
     "metadata": {},
     "output_type": "display_data"
    },
    {
     "data": {
      "text/latex": [
       "${R}_{Φ,θ,Φ}^{r} = \\frac{r \\left(k r^{2} - 1\\right) \\left(\\sin{\\left(2 θ \\right)} \\tan{\\left(θ \\right)} + \\cos{\\left(2 θ \\right)} - 1\\right)}{2 \\tan{\\left(θ \\right)}}$"
      ],
      "text/plain": [
       "<IPython.core.display.Latex object>"
      ]
     },
     "metadata": {},
     "output_type": "display_data"
    },
    {
     "data": {
      "text/latex": [
       "${R}_{Φ,Φ,r}^{r} = \\frac{r^{2} \\left(- c^{2} k - \\left(\\frac{d}{d t} a{\\left(t \\right)}\\right)^{2}\\right) \\sin^{2}{\\left(θ \\right)}}{c^{2}}$"
      ],
      "text/plain": [
       "<IPython.core.display.Latex object>"
      ]
     },
     "metadata": {},
     "output_type": "display_data"
    },
    {
     "data": {
      "text/latex": [
       "${R}_{t,t,θ}^{θ} = \\frac{\\frac{d^{2}}{d t^{2}} a{\\left(t \\right)}}{a{\\left(t \\right)}}$"
      ],
      "text/plain": [
       "<IPython.core.display.Latex object>"
      ]
     },
     "metadata": {},
     "output_type": "display_data"
    },
    {
     "data": {
      "text/latex": [
       "${R}_{t,θ,t}^{θ} = - \\frac{\\frac{d^{2}}{d t^{2}} a{\\left(t \\right)}}{a{\\left(t \\right)}}$"
      ],
      "text/plain": [
       "<IPython.core.display.Latex object>"
      ]
     },
     "metadata": {},
     "output_type": "display_data"
    },
    {
     "data": {
      "text/latex": [
       "${R}_{r,r,θ}^{θ} = \\frac{c^{2} k + \\left(\\frac{d}{d t} a{\\left(t \\right)}\\right)^{2}}{c^{2} \\left(k r^{2} - 1\\right)}$"
      ],
      "text/plain": [
       "<IPython.core.display.Latex object>"
      ]
     },
     "metadata": {},
     "output_type": "display_data"
    },
    {
     "data": {
      "text/latex": [
       "${R}_{r,θ,r}^{θ} = \\frac{- c^{2} k - \\left(\\frac{d}{d t} a{\\left(t \\right)}\\right)^{2}}{c^{2} \\left(k r^{2} - 1\\right)}$"
      ],
      "text/plain": [
       "<IPython.core.display.Latex object>"
      ]
     },
     "metadata": {},
     "output_type": "display_data"
    },
    {
     "data": {
      "text/latex": [
       "${R}_{Φ,θ,Φ}^{θ} = \\frac{r^{2} \\left(c^{2} k + \\left(\\frac{d}{d t} a{\\left(t \\right)}\\right)^{2}\\right) \\sin^{2}{\\left(θ \\right)}}{c^{2}}$"
      ],
      "text/plain": [
       "<IPython.core.display.Latex object>"
      ]
     },
     "metadata": {},
     "output_type": "display_data"
    },
    {
     "data": {
      "text/latex": [
       "${R}_{Φ,Φ,θ}^{θ} = - \\frac{r^{2} \\left(c^{2} k + \\left(\\frac{d}{d t} a{\\left(t \\right)}\\right)^{2}\\right) \\sin^{2}{\\left(θ \\right)}}{c^{2}}$"
      ],
      "text/plain": [
       "<IPython.core.display.Latex object>"
      ]
     },
     "metadata": {},
     "output_type": "display_data"
    },
    {
     "data": {
      "text/latex": [
       "${R}_{t,t,Φ}^{Φ} = \\frac{\\frac{d^{2}}{d t^{2}} a{\\left(t \\right)}}{a{\\left(t \\right)}}$"
      ],
      "text/plain": [
       "<IPython.core.display.Latex object>"
      ]
     },
     "metadata": {},
     "output_type": "display_data"
    },
    {
     "data": {
      "text/latex": [
       "${R}_{t,Φ,t}^{Φ} = - \\frac{\\frac{d^{2}}{d t^{2}} a{\\left(t \\right)}}{a{\\left(t \\right)}}$"
      ],
      "text/plain": [
       "<IPython.core.display.Latex object>"
      ]
     },
     "metadata": {},
     "output_type": "display_data"
    },
    {
     "data": {
      "text/latex": [
       "${R}_{r,r,Φ}^{Φ} = \\frac{c^{2} k + \\left(\\frac{d}{d t} a{\\left(t \\right)}\\right)^{2}}{c^{2} \\left(k r^{2} - 1\\right)}$"
      ],
      "text/plain": [
       "<IPython.core.display.Latex object>"
      ]
     },
     "metadata": {},
     "output_type": "display_data"
    },
    {
     "data": {
      "text/latex": [
       "${R}_{r,Φ,r}^{Φ} = \\frac{- c^{2} k - \\left(\\frac{d}{d t} a{\\left(t \\right)}\\right)^{2}}{c^{2} \\left(k r^{2} - 1\\right)}$"
      ],
      "text/plain": [
       "<IPython.core.display.Latex object>"
      ]
     },
     "metadata": {},
     "output_type": "display_data"
    },
    {
     "data": {
      "text/latex": [
       "${R}_{θ,θ,Φ}^{Φ} = \\frac{r^{2} \\left(- c^{2} k - \\left(\\frac{d}{d t} a{\\left(t \\right)}\\right)^{2}\\right)}{c^{2}}$"
      ],
      "text/plain": [
       "<IPython.core.display.Latex object>"
      ]
     },
     "metadata": {},
     "output_type": "display_data"
    },
    {
     "data": {
      "text/latex": [
       "${R}_{θ,Φ,θ}^{Φ} = \\frac{r^{2} \\left(c^{2} k + \\left(\\frac{d}{d t} a{\\left(t \\right)}\\right)^{2}\\right)}{c^{2}}$"
      ],
      "text/plain": [
       "<IPython.core.display.Latex object>"
      ]
     },
     "metadata": {},
     "output_type": "display_data"
    }
   ],
   "source": [
    "All_R_FLRW = All_r(FLRW)"
   ]
  },
  {
   "cell_type": "markdown",
   "metadata": {},
   "source": [
    "# Riemann Tensors Propreties"
   ]
  },
  {
   "cell_type": "markdown",
   "metadata": {},
   "source": [
    "### $$R_{\\alpha\\beta\\mu\\nu} =  g_{\\alpha\\lambda}R^\\lambda{}_{\\beta\\mu\\nu}$$"
   ]
  },
  {
   "cell_type": "code",
   "execution_count": 52,
   "metadata": {},
   "outputs": [],
   "source": [
    "alpha = theta\n",
    "beta = phi\n",
    "mu = phi\n",
    "nu = theta\n",
    "\n",
    "Metric = FLRW\n",
    "All_C = All_Christoffel_Symbols(Metric)"
   ]
  },
  {
   "cell_type": "markdown",
   "metadata": {},
   "source": [
    "### Antisymmetry in the last two indices"
   ]
  },
  {
   "cell_type": "markdown",
   "metadata": {},
   "source": [
    "### $$R^{\\alpha}{}_{\\beta\\mu\\nu}=-R^{\\alpha}{}_{\\beta\\nu\\mu}$$"
   ]
  },
  {
   "cell_type": "code",
   "execution_count": 53,
   "metadata": {},
   "outputs": [
    {
     "data": {
      "text/latex": [
       "$\\displaystyle - \\frac{r^{2} \\left(c^{2} k + \\left(\\frac{d}{d t} a{\\left(t \\right)}\\right)^{2}\\right) \\sin^{2}{\\left(θ \\right)}}{c^{2}}$"
      ],
      "text/plain": [
       "-r**2*(c**2*k + Derivative(a(t), t)**2)*sin(θ)**2/c**2"
      ]
     },
     "execution_count": 53,
     "metadata": {},
     "output_type": "execute_result"
    }
   ],
   "source": [
    "Rie(alpha, beta, mu, nu, Metric, All_C)"
   ]
  },
  {
   "cell_type": "code",
   "execution_count": 54,
   "metadata": {},
   "outputs": [
    {
     "data": {
      "text/latex": [
       "$\\displaystyle \\frac{r^{2} \\left(c^{2} k + \\left(\\frac{d}{d t} a{\\left(t \\right)}\\right)^{2}\\right) \\sin^{2}{\\left(θ \\right)}}{c^{2}}$"
      ],
      "text/plain": [
       "r**2*(c**2*k + Derivative(a(t), t)**2)*sin(θ)**2/c**2"
      ]
     },
     "execution_count": 54,
     "metadata": {},
     "output_type": "execute_result"
    }
   ],
   "source": [
    "Rie(alpha, beta, nu, mu, Metric, All_C)"
   ]
  },
  {
   "cell_type": "markdown",
   "metadata": {},
   "source": [
    "### Antisymmetry in the first two indices"
   ]
  },
  {
   "cell_type": "markdown",
   "metadata": {},
   "source": [
    "### $$R_{\\alpha\\beta\\mu\\nu}=-R_{\\beta\\alpha\\mu\\nu}$$"
   ]
  },
  {
   "cell_type": "code",
   "execution_count": 55,
   "metadata": {},
   "outputs": [
    {
     "data": {
      "text/latex": [
       "$\\displaystyle - \\frac{r^{4} \\left(c^{2} k + \\left(\\frac{d}{d t} a{\\left(t \\right)}\\right)^{2}\\right) \\sin^{2}{\\left(θ \\right)}}{c^{2}}$"
      ],
      "text/plain": [
       "-r**4*(c**2*k + Derivative(a(t), t)**2)*sin(θ)**2/c**2"
      ]
     },
     "execution_count": 55,
     "metadata": {},
     "output_type": "execute_result"
    }
   ],
   "source": [
    "S[Var[alpha],Var[alpha]] * Rie(alpha, beta, mu, nu, Metric, All_C)"
   ]
  },
  {
   "cell_type": "code",
   "execution_count": 56,
   "metadata": {},
   "outputs": [
    {
     "data": {
      "text/latex": [
       "$\\displaystyle \\frac{r^{4} \\left(c^{2} k + \\left(\\frac{d}{d t} a{\\left(t \\right)}\\right)^{2}\\right) \\sin^{2}{\\left(θ \\right)}}{c^{2}}$"
      ],
      "text/plain": [
       "r**4*(c**2*k + Derivative(a(t), t)**2)*sin(θ)**2/c**2"
      ]
     },
     "execution_count": 56,
     "metadata": {},
     "output_type": "execute_result"
    }
   ],
   "source": [
    "S[Var[beta],Var[beta]] * Rie(beta, alpha, mu, nu, Metric, All_C)"
   ]
  },
  {
   "cell_type": "markdown",
   "metadata": {},
   "source": [
    "### Symmetry under exchange of the two groups of indices (for Levi-Civita)"
   ]
  },
  {
   "cell_type": "markdown",
   "metadata": {},
   "source": [
    "### $$R_{\\alpha\\beta\\mu\\nu}=R_{\\mu\\nu\\alpha\\beta}$$"
   ]
  },
  {
   "cell_type": "code",
   "execution_count": 60,
   "metadata": {},
   "outputs": [
    {
     "data": {
      "text/latex": [
       "$\\displaystyle - \\frac{r^{4} \\left(c^{2} k + \\left(\\frac{d}{d t} a{\\left(t \\right)}\\right)^{2}\\right) \\sin^{2}{\\left(θ \\right)}}{c^{2}}$"
      ],
      "text/plain": [
       "-r**4*(c**2*k + Derivative(a(t), t)**2)*sin(θ)**2/c**2"
      ]
     },
     "execution_count": 60,
     "metadata": {},
     "output_type": "execute_result"
    }
   ],
   "source": [
    "S[Var[alpha],Var[alpha]] * Rie(alpha, beta, mu, nu, Metric, All_C)"
   ]
  },
  {
   "cell_type": "code",
   "execution_count": 59,
   "metadata": {},
   "outputs": [
    {
     "data": {
      "text/latex": [
       "$\\displaystyle \\frac{r^{4} \\left(- c^{2} k - \\left(\\frac{d}{d t} a{\\left(t \\right)}\\right)^{2}\\right) \\sin^{2}{\\left(θ \\right)}}{c^{2}}$"
      ],
      "text/plain": [
       "r**4*(-c**2*k - Derivative(a(t), t)**2)*sin(θ)**2/c**2"
      ]
     },
     "execution_count": 59,
     "metadata": {},
     "output_type": "execute_result"
    }
   ],
   "source": [
    "S[Var[mu],Var[mu]] * Rie(mu, nu, alpha, beta, Metric, All_C)"
   ]
  },
  {
   "cell_type": "markdown",
   "metadata": {},
   "source": [
    "### Bianchi identity\n",
    "\n",
    "### $$R^{\\alpha}{}_{\\beta\\mu\\nu}+R^{\\alpha}{}_{\\mu\\nu\\beta}+R^{\\alpha}{}_{\\nu\\beta\\mu}=0$$"
   ]
  },
  {
   "cell_type": "code",
   "execution_count": 62,
   "metadata": {},
   "outputs": [
    {
     "data": {
      "text/latex": [
       "$\\displaystyle 0$"
      ],
      "text/plain": [
       "0"
      ]
     },
     "execution_count": 62,
     "metadata": {},
     "output_type": "execute_result"
    }
   ],
   "source": [
    "Rie(alpha, beta, mu, nu, Metric, All_C) + Rie(alpha, nu, beta, mu, Metric, All_C) + Rie(alpha, mu, nu, beta, Metric, All_C)"
   ]
  }
 ],
 "metadata": {
  "kernelspec": {
   "display_name": "Python 3",
   "language": "python",
   "name": "python3"
  },
  "language_info": {
   "codemirror_mode": {
    "name": "ipython",
    "version": 3
   },
   "file_extension": ".py",
   "mimetype": "text/x-python",
   "name": "python",
   "nbconvert_exporter": "python",
   "pygments_lexer": "ipython3",
   "version": "3.10.11"
  }
 },
 "nbformat": 4,
 "nbformat_minor": 2
}
