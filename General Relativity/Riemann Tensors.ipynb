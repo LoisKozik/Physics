{
 "cells": [
  {
   "cell_type": "code",
   "execution_count": 1,
   "metadata": {},
   "outputs": [],
   "source": [
    "import numpy as np\n",
    "import sympy as smp\n",
    "from sympy import *\n",
    "from IPython.display import display, Latex"
   ]
  },
  {
   "cell_type": "code",
   "execution_count": 2,
   "metadata": {},
   "outputs": [],
   "source": [
    "G, M, t, r, theta, phi, k, c = smp.symbols('G M t r θ Φ k c')\n",
    "a = smp.Function('a')\n",
    "\n",
    "Gamma = IndexedBase(\"Gamma\")\n",
    "Riemann = IndexedBase(\"R\")"
   ]
  },
  {
   "cell_type": "code",
   "execution_count": 3,
   "metadata": {},
   "outputs": [],
   "source": [
    "Var = {\n",
    "    t : 0,\n",
    "    r : 1,\n",
    "    theta : 2,\n",
    "    phi : 3\n",
    "}"
   ]
  },
  {
   "cell_type": "code",
   "execution_count": 4,
   "metadata": {},
   "outputs": [],
   "source": [
    "Rav = {\n",
    "    0 : t,\n",
    "    1 : r,\n",
    "    2 : theta,\n",
    "    3 : phi\n",
    "}"
   ]
  },
  {
   "cell_type": "markdown",
   "metadata": {},
   "source": [
    "# Computing Riemann Tensors"
   ]
  },
  {
   "cell_type": "markdown",
   "metadata": {},
   "source": [
    "### $${R^{i }}_{{j l m }}={\\partial {\\Gamma ^{i }}_{{j m }} \\over \\partial x^{l }}-{\\partial {\\Gamma ^{i }}_{{j l }} \\over \\partial x^{m }}+{\\Gamma ^{i }}_{{l k }}{\\Gamma ^{k }}_{{j m }}-{\\Gamma ^{i }}_{{m k }}{\\Gamma ^{k }}_{{j l }}$$"
   ]
  },
  {
   "cell_type": "code",
   "execution_count": 5,
   "metadata": {},
   "outputs": [],
   "source": [
    "# Compute Christoffel Symbols\n",
    "def Christoffel_Symbols(m, i, j, Metric):\n",
    "    inv_Metric = Metric.inv()\n",
    "    C = 0\n",
    "    for l in range(4):\n",
    "        #print(1/2*inv_Metric[Var[m], l])\n",
    "        C += 1/2*inv_Metric[Var[m], l]*(smp.diff(Metric[Var[i],Var[m]], j)+smp.diff(Metric[Var[m],Var[j]], i)-smp.diff(Metric[Var[j],Var[i]], m))\n",
    "    return simplify(C)"
   ]
  },
  {
   "cell_type": "code",
   "execution_count": 6,
   "metadata": {},
   "outputs": [],
   "source": [
    "def Rie(i, j, l, m, Metric):\n",
    "    G1 = 0\n",
    "    G2 = 0\n",
    "    for k in (t,r,theta,phi):\n",
    "        G1 += Christoffel_Symbols(i, l, k, Metric) * Christoffel_Symbols(k, j, m, Metric)\n",
    "        G2 += Christoffel_Symbols(i, m, k, Metric) * Christoffel_Symbols(k, j, l, Metric)\n",
    "        \n",
    "    return simplify(smp.diff(Christoffel_Symbols(i, j, m, Metric), l) - smp.diff(Christoffel_Symbols(i, j, l, Metric), m) + G1 - G2)"
   ]
  },
  {
   "cell_type": "code",
   "execution_count": 7,
   "metadata": {},
   "outputs": [],
   "source": [
    "def All_r(Metric):\n",
    "    for i in range(4):\n",
    "        for j in range(4):\n",
    "            for l in range(4):\n",
    "                for m in range(4):\n",
    "                    if Rie(Rav[i], Rav[j], Rav[l], Rav[m], Metric) != 0 :\n",
    "                        display(Latex('$' + latex(Riemann[Rav[j],Rav[l],Rav[m]]**Rav[i]) + ' = ' + latex(Rie(Rav[i], Rav[j], Rav[l], Rav[m], Metric)) + '$'))"
   ]
  },
  {
   "cell_type": "markdown",
   "metadata": {},
   "source": [
    "### Minkowski Metric"
   ]
  },
  {
   "cell_type": "code",
   "execution_count": 12,
   "metadata": {},
   "outputs": [],
   "source": [
    "# Convention (-+++)\n",
    "M_Metric = np.array([[-1, 0, 0, 0], [0, 1, 0, 0], [0, 0, 1, 0], [0, 0, 0, 1]])\n",
    "M = smp.Matrix(M_Metric)"
   ]
  },
  {
   "cell_type": "code",
   "execution_count": 13,
   "metadata": {},
   "outputs": [
    {
     "data": {
      "text/latex": [
       "$\\displaystyle \\left[\\begin{matrix}-1 & 0 & 0 & 0\\\\0 & 1 & 0 & 0\\\\0 & 0 & 1 & 0\\\\0 & 0 & 0 & 1\\end{matrix}\\right]$"
      ],
      "text/plain": [
       "Matrix([\n",
       "[-1, 0, 0, 0],\n",
       "[ 0, 1, 0, 0],\n",
       "[ 0, 0, 1, 0],\n",
       "[ 0, 0, 0, 1]])"
      ]
     },
     "execution_count": 13,
     "metadata": {},
     "output_type": "execute_result"
    }
   ],
   "source": [
    "M"
   ]
  },
  {
   "cell_type": "code",
   "execution_count": 14,
   "metadata": {},
   "outputs": [
    {
     "data": {
      "text/latex": [
       "$\\displaystyle \\left[\\begin{matrix}-1 & 0 & 0 & 0\\\\0 & 1 & 0 & 0\\\\0 & 0 & 1 & 0\\\\0 & 0 & 0 & 1\\end{matrix}\\right]$"
      ],
      "text/plain": [
       "Matrix([\n",
       "[-1, 0, 0, 0],\n",
       "[ 0, 1, 0, 0],\n",
       "[ 0, 0, 1, 0],\n",
       "[ 0, 0, 0, 1]])"
      ]
     },
     "execution_count": 14,
     "metadata": {},
     "output_type": "execute_result"
    }
   ],
   "source": [
    "M.inv()"
   ]
  },
  {
   "cell_type": "code",
   "execution_count": 15,
   "metadata": {},
   "outputs": [],
   "source": [
    "All_r(M)"
   ]
  },
  {
   "cell_type": "markdown",
   "metadata": {},
   "source": [
    "### Schwarschil Metric"
   ]
  },
  {
   "cell_type": "code",
   "execution_count": 9,
   "metadata": {},
   "outputs": [],
   "source": [
    "# Convention (-+++)\n",
    "S_Metric = np.array([[-(1-2*G*M/r), 0, 0, 0], [0, 1/(1-2*G*M/r), 0, 0], [0, 0, r**2, 0], [0, 0, 0, r**2*smp.sin(theta)**2]])\n",
    "S = smp.Matrix(S_Metric)"
   ]
  },
  {
   "cell_type": "code",
   "execution_count": 10,
   "metadata": {},
   "outputs": [
    {
     "data": {
      "text/latex": [
       "$\\displaystyle \\left[\\begin{matrix}\\frac{2 G M}{r} - 1 & 0 & 0 & 0\\\\0 & \\frac{1}{- \\frac{2 G M}{r} + 1} & 0 & 0\\\\0 & 0 & r^{2} & 0\\\\0 & 0 & 0 & r^{2} \\sin^{2}{\\left(θ \\right)}\\end{matrix}\\right]$"
      ],
      "text/plain": [
       "Matrix([\n",
       "[2*G*M/r - 1,                0,    0,              0],\n",
       "[          0, 1/(-2*G*M/r + 1),    0,              0],\n",
       "[          0,                0, r**2,              0],\n",
       "[          0,                0,    0, r**2*sin(θ)**2]])"
      ]
     },
     "execution_count": 10,
     "metadata": {},
     "output_type": "execute_result"
    }
   ],
   "source": [
    "S"
   ]
  },
  {
   "cell_type": "code",
   "execution_count": 11,
   "metadata": {},
   "outputs": [
    {
     "data": {
      "text/latex": [
       "$\\displaystyle \\left[\\begin{matrix}- \\frac{r}{- 2 G M + r} & 0 & 0 & 0\\\\0 & \\frac{- 2 G M + r}{r} & 0 & 0\\\\0 & 0 & \\frac{1}{r^{2}} & 0\\\\0 & 0 & 0 & \\frac{1}{r^{2} \\sin^{2}{\\left(θ \\right)}}\\end{matrix}\\right]$"
      ],
      "text/plain": [
       "Matrix([\n",
       "[-r/(-2*G*M + r),              0,       0,                  0],\n",
       "[              0, (-2*G*M + r)/r,       0,                  0],\n",
       "[              0,              0, r**(-2),                  0],\n",
       "[              0,              0,       0, 1/(r**2*sin(θ)**2)]])"
      ]
     },
     "execution_count": 11,
     "metadata": {},
     "output_type": "execute_result"
    }
   ],
   "source": [
    "S.inv()"
   ]
  },
  {
   "cell_type": "code",
   "execution_count": 12,
   "metadata": {},
   "outputs": [
    {
     "data": {
      "text/latex": [
       "${R}_{r,t,r}^{t} = \\frac{2.0 G M}{r^{2} \\left(- 2.0 G M + 1.0 r\\right)}$"
      ],
      "text/plain": [
       "<IPython.core.display.Latex object>"
      ]
     },
     "metadata": {},
     "output_type": "display_data"
    },
    {
     "data": {
      "text/latex": [
       "${R}_{r,r,t}^{t} = \\frac{2.0 G M}{r^{2} \\left(2.0 G M - 1.0 r\\right)}$"
      ],
      "text/plain": [
       "<IPython.core.display.Latex object>"
      ]
     },
     "metadata": {},
     "output_type": "display_data"
    },
    {
     "data": {
      "text/latex": [
       "${R}_{θ,t,θ}^{t} = - \\frac{1.0 G M}{r}$"
      ],
      "text/plain": [
       "<IPython.core.display.Latex object>"
      ]
     },
     "metadata": {},
     "output_type": "display_data"
    },
    {
     "data": {
      "text/latex": [
       "${R}_{θ,θ,t}^{t} = \\frac{1.0 G M}{r}$"
      ],
      "text/plain": [
       "<IPython.core.display.Latex object>"
      ]
     },
     "metadata": {},
     "output_type": "display_data"
    },
    {
     "data": {
      "text/latex": [
       "${R}_{Φ,t,Φ}^{t} = - \\frac{1.0 G M \\sin^{2}{\\left(θ \\right)}}{r}$"
      ],
      "text/plain": [
       "<IPython.core.display.Latex object>"
      ]
     },
     "metadata": {},
     "output_type": "display_data"
    },
    {
     "data": {
      "text/latex": [
       "${R}_{Φ,Φ,t}^{t} = \\frac{1.0 G M \\sin^{2}{\\left(θ \\right)}}{r}$"
      ],
      "text/plain": [
       "<IPython.core.display.Latex object>"
      ]
     },
     "metadata": {},
     "output_type": "display_data"
    },
    {
     "data": {
      "text/latex": [
       "${R}_{t,t,r}^{r} = \\frac{G M \\left(- 4.0 G M + 2.0 r\\right)}{r^{4}}$"
      ],
      "text/plain": [
       "<IPython.core.display.Latex object>"
      ]
     },
     "metadata": {},
     "output_type": "display_data"
    },
    {
     "data": {
      "text/latex": [
       "${R}_{t,r,t}^{r} = \\frac{G M \\left(4.0 G M - 2.0 r\\right)}{r^{4}}$"
      ],
      "text/plain": [
       "<IPython.core.display.Latex object>"
      ]
     },
     "metadata": {},
     "output_type": "display_data"
    },
    {
     "data": {
      "text/latex": [
       "${R}_{θ,r,θ}^{r} = - \\frac{1.0 G M}{r}$"
      ],
      "text/plain": [
       "<IPython.core.display.Latex object>"
      ]
     },
     "metadata": {},
     "output_type": "display_data"
    },
    {
     "data": {
      "text/latex": [
       "${R}_{θ,θ,r}^{r} = \\frac{1.0 G M}{r}$"
      ],
      "text/plain": [
       "<IPython.core.display.Latex object>"
      ]
     },
     "metadata": {},
     "output_type": "display_data"
    },
    {
     "data": {
      "text/latex": [
       "${R}_{Φ,r,Φ}^{r} = - \\frac{1.0 G M \\sin^{2}{\\left(θ \\right)}}{r}$"
      ],
      "text/plain": [
       "<IPython.core.display.Latex object>"
      ]
     },
     "metadata": {},
     "output_type": "display_data"
    },
    {
     "data": {
      "text/latex": [
       "${R}_{Φ,Φ,r}^{r} = \\frac{1.0 G M \\sin^{2}{\\left(θ \\right)}}{r}$"
      ],
      "text/plain": [
       "<IPython.core.display.Latex object>"
      ]
     },
     "metadata": {},
     "output_type": "display_data"
    },
    {
     "data": {
      "text/latex": [
       "${R}_{t,t,θ}^{θ} = \\frac{1.0 G M \\left(2 G M - r\\right)}{r^{4}}$"
      ],
      "text/plain": [
       "<IPython.core.display.Latex object>"
      ]
     },
     "metadata": {},
     "output_type": "display_data"
    },
    {
     "data": {
      "text/latex": [
       "${R}_{t,θ,t}^{θ} = - \\frac{1.0 G M \\left(2 G M - r\\right)}{r^{4}}$"
      ],
      "text/plain": [
       "<IPython.core.display.Latex object>"
      ]
     },
     "metadata": {},
     "output_type": "display_data"
    },
    {
     "data": {
      "text/latex": [
       "${R}_{r,r,θ}^{θ} = - \\frac{1.0 G M}{r^{2} \\left(2 G M - r\\right)}$"
      ],
      "text/plain": [
       "<IPython.core.display.Latex object>"
      ]
     },
     "metadata": {},
     "output_type": "display_data"
    },
    {
     "data": {
      "text/latex": [
       "${R}_{r,θ,r}^{θ} = \\frac{1.0 G M}{r^{2} \\left(2 G M - r\\right)}$"
      ],
      "text/plain": [
       "<IPython.core.display.Latex object>"
      ]
     },
     "metadata": {},
     "output_type": "display_data"
    },
    {
     "data": {
      "text/latex": [
       "${R}_{Φ,θ,Φ}^{θ} = \\frac{2.0 G M \\sin^{2}{\\left(θ \\right)}}{r}$"
      ],
      "text/plain": [
       "<IPython.core.display.Latex object>"
      ]
     },
     "metadata": {},
     "output_type": "display_data"
    },
    {
     "data": {
      "text/latex": [
       "${R}_{Φ,Φ,θ}^{θ} = - \\frac{2.0 G M \\sin^{2}{\\left(θ \\right)}}{r}$"
      ],
      "text/plain": [
       "<IPython.core.display.Latex object>"
      ]
     },
     "metadata": {},
     "output_type": "display_data"
    },
    {
     "data": {
      "text/latex": [
       "${R}_{t,t,Φ}^{Φ} = \\frac{1.0 G M \\left(2 G M - r\\right)}{r^{4}}$"
      ],
      "text/plain": [
       "<IPython.core.display.Latex object>"
      ]
     },
     "metadata": {},
     "output_type": "display_data"
    },
    {
     "data": {
      "text/latex": [
       "${R}_{t,Φ,t}^{Φ} = - \\frac{1.0 G M \\left(2 G M - r\\right)}{r^{4}}$"
      ],
      "text/plain": [
       "<IPython.core.display.Latex object>"
      ]
     },
     "metadata": {},
     "output_type": "display_data"
    },
    {
     "data": {
      "text/latex": [
       "${R}_{r,r,Φ}^{Φ} = - \\frac{1.0 G M}{r^{2} \\left(2 G M - r\\right)}$"
      ],
      "text/plain": [
       "<IPython.core.display.Latex object>"
      ]
     },
     "metadata": {},
     "output_type": "display_data"
    },
    {
     "data": {
      "text/latex": [
       "${R}_{r,Φ,r}^{Φ} = \\frac{1.0 G M}{r^{2} \\left(2 G M - r\\right)}$"
      ],
      "text/plain": [
       "<IPython.core.display.Latex object>"
      ]
     },
     "metadata": {},
     "output_type": "display_data"
    },
    {
     "data": {
      "text/latex": [
       "${R}_{θ,θ,Φ}^{Φ} = - \\frac{2.0 G M}{r}$"
      ],
      "text/plain": [
       "<IPython.core.display.Latex object>"
      ]
     },
     "metadata": {},
     "output_type": "display_data"
    },
    {
     "data": {
      "text/latex": [
       "${R}_{θ,Φ,θ}^{Φ} = \\frac{2.0 G M}{r}$"
      ],
      "text/plain": [
       "<IPython.core.display.Latex object>"
      ]
     },
     "metadata": {},
     "output_type": "display_data"
    }
   ],
   "source": [
    "All_r(S)"
   ]
  },
  {
   "cell_type": "markdown",
   "metadata": {},
   "source": [
    "### FLRW Metric"
   ]
  },
  {
   "cell_type": "code",
   "execution_count": 8,
   "metadata": {},
   "outputs": [],
   "source": [
    "# Convention (+---)\n",
    "FLRW_Metric = np.array([[c**2, 0, 0, 0], [0, -a(t)**2/(1-k*r**2), 0, 0], [0, 0, -a(t)**2*r**2, 0], [0, 0, 0, -a(t)**2*r**2*smp.sin(theta)**2]])\n",
    "\n",
    "FLRW = smp.Matrix(FLRW_Metric)"
   ]
  },
  {
   "cell_type": "code",
   "execution_count": 9,
   "metadata": {},
   "outputs": [
    {
     "data": {
      "text/latex": [
       "$\\displaystyle \\left[\\begin{matrix}c^{2} & 0 & 0 & 0\\\\0 & - \\frac{a^{2}{\\left(t \\right)}}{- k r^{2} + 1} & 0 & 0\\\\0 & 0 & - r^{2} a^{2}{\\left(t \\right)} & 0\\\\0 & 0 & 0 & - r^{2} a^{2}{\\left(t \\right)} \\sin^{2}{\\left(θ \\right)}\\end{matrix}\\right]$"
      ],
      "text/plain": [
       "Matrix([\n",
       "[c**2,                      0,             0,                       0],\n",
       "[   0, -a(t)**2/(-k*r**2 + 1),             0,                       0],\n",
       "[   0,                      0, -r**2*a(t)**2,                       0],\n",
       "[   0,                      0,             0, -r**2*a(t)**2*sin(θ)**2]])"
      ]
     },
     "execution_count": 9,
     "metadata": {},
     "output_type": "execute_result"
    }
   ],
   "source": [
    "FLRW"
   ]
  },
  {
   "cell_type": "code",
   "execution_count": 10,
   "metadata": {},
   "outputs": [
    {
     "data": {
      "text/latex": [
       "$\\displaystyle \\left[\\begin{matrix}\\frac{1}{c^{2}} & 0 & 0 & 0\\\\0 & \\frac{k r^{2} - 1}{a^{2}{\\left(t \\right)}} & 0 & 0\\\\0 & 0 & - \\frac{1}{r^{2} a^{2}{\\left(t \\right)}} & 0\\\\0 & 0 & 0 & - \\frac{1}{r^{2} a^{2}{\\left(t \\right)} \\sin^{2}{\\left(θ \\right)}}\\end{matrix}\\right]$"
      ],
      "text/plain": [
       "Matrix([\n",
       "[c**(-2),                    0,                 0,                           0],\n",
       "[      0, (k*r**2 - 1)/a(t)**2,                 0,                           0],\n",
       "[      0,                    0, -1/(r**2*a(t)**2),                           0],\n",
       "[      0,                    0,                 0, -1/(r**2*a(t)**2*sin(θ)**2)]])"
      ]
     },
     "execution_count": 10,
     "metadata": {},
     "output_type": "execute_result"
    }
   ],
   "source": [
    "FLRW.inv()"
   ]
  },
  {
   "cell_type": "code",
   "execution_count": 11,
   "metadata": {},
   "outputs": [
    {
     "data": {
      "text/latex": [
       "${R}_{r,t,r}^{t} = - \\frac{1.0 a{\\left(t \\right)} \\frac{d^{2}}{d t^{2}} a{\\left(t \\right)}}{c^{2} \\left(k r^{2} - 1\\right)}$"
      ],
      "text/plain": [
       "<IPython.core.display.Latex object>"
      ]
     },
     "metadata": {},
     "output_type": "display_data"
    },
    {
     "data": {
      "text/latex": [
       "${R}_{r,r,t}^{t} = \\frac{1.0 a{\\left(t \\right)} \\frac{d^{2}}{d t^{2}} a{\\left(t \\right)}}{c^{2} \\left(k r^{2} - 1\\right)}$"
      ],
      "text/plain": [
       "<IPython.core.display.Latex object>"
      ]
     },
     "metadata": {},
     "output_type": "display_data"
    },
    {
     "data": {
      "text/latex": [
       "${R}_{θ,t,θ}^{t} = \\frac{1.0 r^{2} a{\\left(t \\right)} \\frac{d^{2}}{d t^{2}} a{\\left(t \\right)}}{c^{2}}$"
      ],
      "text/plain": [
       "<IPython.core.display.Latex object>"
      ]
     },
     "metadata": {},
     "output_type": "display_data"
    },
    {
     "data": {
      "text/latex": [
       "${R}_{θ,θ,t}^{t} = - \\frac{1.0 r^{2} a{\\left(t \\right)} \\frac{d^{2}}{d t^{2}} a{\\left(t \\right)}}{c^{2}}$"
      ],
      "text/plain": [
       "<IPython.core.display.Latex object>"
      ]
     },
     "metadata": {},
     "output_type": "display_data"
    },
    {
     "data": {
      "text/latex": [
       "${R}_{Φ,t,Φ}^{t} = \\frac{1.0 r^{2} a{\\left(t \\right)} \\sin^{2}{\\left(θ \\right)} \\frac{d^{2}}{d t^{2}} a{\\left(t \\right)}}{c^{2}}$"
      ],
      "text/plain": [
       "<IPython.core.display.Latex object>"
      ]
     },
     "metadata": {},
     "output_type": "display_data"
    },
    {
     "data": {
      "text/latex": [
       "${R}_{Φ,Φ,t}^{t} = - \\frac{1.0 r^{2} a{\\left(t \\right)} \\sin^{2}{\\left(θ \\right)} \\frac{d^{2}}{d t^{2}} a{\\left(t \\right)}}{c^{2}}$"
      ],
      "text/plain": [
       "<IPython.core.display.Latex object>"
      ]
     },
     "metadata": {},
     "output_type": "display_data"
    },
    {
     "data": {
      "text/latex": [
       "${R}_{t,t,r}^{r} = \\frac{1.0 \\frac{d^{2}}{d t^{2}} a{\\left(t \\right)}}{a{\\left(t \\right)}}$"
      ],
      "text/plain": [
       "<IPython.core.display.Latex object>"
      ]
     },
     "metadata": {},
     "output_type": "display_data"
    },
    {
     "data": {
      "text/latex": [
       "${R}_{t,r,t}^{r} = - \\frac{1.0 \\frac{d^{2}}{d t^{2}} a{\\left(t \\right)}}{a{\\left(t \\right)}}$"
      ],
      "text/plain": [
       "<IPython.core.display.Latex object>"
      ]
     },
     "metadata": {},
     "output_type": "display_data"
    },
    {
     "data": {
      "text/latex": [
       "${R}_{θ,r,θ}^{r} = \\frac{1.0 r^{2} \\left(c^{2} k + \\left(\\frac{d}{d t} a{\\left(t \\right)}\\right)^{2}\\right)}{c^{2}}$"
      ],
      "text/plain": [
       "<IPython.core.display.Latex object>"
      ]
     },
     "metadata": {},
     "output_type": "display_data"
    },
    {
     "data": {
      "text/latex": [
       "${R}_{θ,θ,r}^{r} = \\frac{1.0 r^{2} \\left(- c^{2} k - \\left(\\frac{d}{d t} a{\\left(t \\right)}\\right)^{2}\\right)}{c^{2}}$"
      ],
      "text/plain": [
       "<IPython.core.display.Latex object>"
      ]
     },
     "metadata": {},
     "output_type": "display_data"
    },
    {
     "data": {
      "text/latex": [
       "${R}_{Φ,r,Φ}^{r} = \\frac{1.0 r^{2} \\left(c^{2} k + \\left(\\frac{d}{d t} a{\\left(t \\right)}\\right)^{2}\\right) \\sin^{2}{\\left(θ \\right)}}{c^{2}}$"
      ],
      "text/plain": [
       "<IPython.core.display.Latex object>"
      ]
     },
     "metadata": {},
     "output_type": "display_data"
    },
    {
     "data": {
      "text/latex": [
       "${R}_{Φ,Φ,r}^{r} = \\frac{1.0 r^{2} \\left(- c^{2} k - \\left(\\frac{d}{d t} a{\\left(t \\right)}\\right)^{2}\\right) \\sin^{2}{\\left(θ \\right)}}{c^{2}}$"
      ],
      "text/plain": [
       "<IPython.core.display.Latex object>"
      ]
     },
     "metadata": {},
     "output_type": "display_data"
    },
    {
     "data": {
      "text/latex": [
       "${R}_{t,t,θ}^{θ} = \\frac{1.0 \\frac{d^{2}}{d t^{2}} a{\\left(t \\right)}}{a{\\left(t \\right)}}$"
      ],
      "text/plain": [
       "<IPython.core.display.Latex object>"
      ]
     },
     "metadata": {},
     "output_type": "display_data"
    },
    {
     "data": {
      "text/latex": [
       "${R}_{t,θ,t}^{θ} = - \\frac{1.0 \\frac{d^{2}}{d t^{2}} a{\\left(t \\right)}}{a{\\left(t \\right)}}$"
      ],
      "text/plain": [
       "<IPython.core.display.Latex object>"
      ]
     },
     "metadata": {},
     "output_type": "display_data"
    },
    {
     "data": {
      "text/latex": [
       "${R}_{r,r,θ}^{θ} = \\frac{1.0 \\left(c^{2} k + \\left(\\frac{d}{d t} a{\\left(t \\right)}\\right)^{2}\\right)}{c^{2} \\left(k r^{2} - 1\\right)}$"
      ],
      "text/plain": [
       "<IPython.core.display.Latex object>"
      ]
     },
     "metadata": {},
     "output_type": "display_data"
    },
    {
     "data": {
      "text/latex": [
       "${R}_{r,θ,r}^{θ} = \\frac{1.0 \\left(- c^{2} k - \\left(\\frac{d}{d t} a{\\left(t \\right)}\\right)^{2}\\right)}{c^{2} \\left(k r^{2} - 1\\right)}$"
      ],
      "text/plain": [
       "<IPython.core.display.Latex object>"
      ]
     },
     "metadata": {},
     "output_type": "display_data"
    },
    {
     "data": {
      "text/latex": [
       "${R}_{Φ,θ,Φ}^{θ} = \\frac{1.0 r^{2} \\left(c^{2} k + \\left(\\frac{d}{d t} a{\\left(t \\right)}\\right)^{2}\\right) \\sin^{2}{\\left(θ \\right)}}{c^{2}}$"
      ],
      "text/plain": [
       "<IPython.core.display.Latex object>"
      ]
     },
     "metadata": {},
     "output_type": "display_data"
    },
    {
     "data": {
      "text/latex": [
       "${R}_{Φ,Φ,θ}^{θ} = - \\frac{1.0 r^{2} \\left(c^{2} k + \\left(\\frac{d}{d t} a{\\left(t \\right)}\\right)^{2}\\right) \\sin^{2}{\\left(θ \\right)}}{c^{2}}$"
      ],
      "text/plain": [
       "<IPython.core.display.Latex object>"
      ]
     },
     "metadata": {},
     "output_type": "display_data"
    },
    {
     "data": {
      "text/latex": [
       "${R}_{t,t,Φ}^{Φ} = \\frac{1.0 \\frac{d^{2}}{d t^{2}} a{\\left(t \\right)}}{a{\\left(t \\right)}}$"
      ],
      "text/plain": [
       "<IPython.core.display.Latex object>"
      ]
     },
     "metadata": {},
     "output_type": "display_data"
    },
    {
     "data": {
      "text/latex": [
       "${R}_{t,Φ,t}^{Φ} = - \\frac{1.0 \\frac{d^{2}}{d t^{2}} a{\\left(t \\right)}}{a{\\left(t \\right)}}$"
      ],
      "text/plain": [
       "<IPython.core.display.Latex object>"
      ]
     },
     "metadata": {},
     "output_type": "display_data"
    },
    {
     "data": {
      "text/latex": [
       "${R}_{r,r,Φ}^{Φ} = \\frac{1.0 \\left(c^{2} k + \\left(\\frac{d}{d t} a{\\left(t \\right)}\\right)^{2}\\right)}{c^{2} \\left(k r^{2} - 1\\right)}$"
      ],
      "text/plain": [
       "<IPython.core.display.Latex object>"
      ]
     },
     "metadata": {},
     "output_type": "display_data"
    },
    {
     "data": {
      "text/latex": [
       "${R}_{r,Φ,r}^{Φ} = \\frac{1.0 \\left(- c^{2} k - \\left(\\frac{d}{d t} a{\\left(t \\right)}\\right)^{2}\\right)}{c^{2} \\left(k r^{2} - 1\\right)}$"
      ],
      "text/plain": [
       "<IPython.core.display.Latex object>"
      ]
     },
     "metadata": {},
     "output_type": "display_data"
    },
    {
     "data": {
      "text/latex": [
       "${R}_{θ,θ,Φ}^{Φ} = \\frac{1.0 r^{2} \\left(- c^{2} k - \\left(\\frac{d}{d t} a{\\left(t \\right)}\\right)^{2}\\right)}{c^{2}}$"
      ],
      "text/plain": [
       "<IPython.core.display.Latex object>"
      ]
     },
     "metadata": {},
     "output_type": "display_data"
    },
    {
     "data": {
      "text/latex": [
       "${R}_{θ,Φ,θ}^{Φ} = \\frac{1.0 r^{2} \\left(c^{2} k + \\left(\\frac{d}{d t} a{\\left(t \\right)}\\right)^{2}\\right)}{c^{2}}$"
      ],
      "text/plain": [
       "<IPython.core.display.Latex object>"
      ]
     },
     "metadata": {},
     "output_type": "display_data"
    }
   ],
   "source": [
    "All_r(FLRW)"
   ]
  }
 ],
 "metadata": {
  "kernelspec": {
   "display_name": "Python 3",
   "language": "python",
   "name": "python3"
  },
  "language_info": {
   "codemirror_mode": {
    "name": "ipython",
    "version": 3
   },
   "file_extension": ".py",
   "mimetype": "text/x-python",
   "name": "python",
   "nbconvert_exporter": "python",
   "pygments_lexer": "ipython3",
   "version": "3.10.11"
  }
 },
 "nbformat": 4,
 "nbformat_minor": 2
}
