{
 "cells": [
  {
   "cell_type": "code",
   "execution_count": 1,
   "metadata": {},
   "outputs": [],
   "source": [
    "import numpy as np\n",
    "import sympy as smp\n",
    "from sympy import *\n",
    "from IPython.display import display, Latex"
   ]
  },
  {
   "cell_type": "code",
   "execution_count": 2,
   "metadata": {},
   "outputs": [],
   "source": [
    "G, M, t, r, theta, phi, k, c = smp.symbols('G M t r θ Φ k c')\n",
    "a = smp.Function('a')\n",
    "\n",
    "Gamma = IndexedBase(\"Gamma\")\n",
    "Riemann = IndexedBase(\"R\")"
   ]
  },
  {
   "cell_type": "code",
   "execution_count": 3,
   "metadata": {},
   "outputs": [],
   "source": [
    "Var = {\n",
    "    t : 0,\n",
    "    r : 1,\n",
    "    theta : 2,\n",
    "    phi : 3\n",
    "}\n",
    "\n",
    "Rav = {\n",
    "    0 : t,\n",
    "    1 : r,\n",
    "    2 : theta,\n",
    "    3 : phi\n",
    "}"
   ]
  },
  {
   "cell_type": "markdown",
   "metadata": {},
   "source": [
    "# Computing Christoffel Symbols"
   ]
  },
  {
   "cell_type": "markdown",
   "metadata": {},
   "source": [
    "### $${\\displaystyle \\Gamma ^{m}{}_{ij}={\\frac {1}{2}}g^{ml}\\left({\\frac {\\partial g_{il}}{\\partial x^{j}}}+{\\frac {\\partial g_{lj }}{\\partial x^{i}}}-{\\frac {\\partial g_{ji }}{\\partial x^{l}}}\\right)={1 \\over 2}g^{ml}(g_{il,j }+g_{lj ,i}-g_{ji ,l})\\ }$$"
   ]
  },
  {
   "cell_type": "code",
   "execution_count": 13,
   "metadata": {},
   "outputs": [],
   "source": [
    "# Compute Christoffel Symbols\n",
    "def Christoffel_Symbols(m, i, j, Metric):\n",
    "    inv_Metric = Metric.inv()\n",
    "    C = 0\n",
    "    for l in range(4):\n",
    "        #print(1/2*inv_Metric[Var[m], l])\n",
    "        C += 1/2*inv_Metric[Var[m], l]*(smp.diff(Metric[Var[i],Var[m]], j)+smp.diff(Metric[Var[m],Var[j]], i)-smp.diff(Metric[Var[j],Var[i]], m))\n",
    "    return simplify(C)"
   ]
  },
  {
   "cell_type": "code",
   "execution_count": 14,
   "metadata": {},
   "outputs": [],
   "source": [
    "# Compute all Christoffel Symbols\n",
    "def All_Christoffel_Symbols(Metric):\n",
    "    for k in range(4):\n",
    "        for i in range(4):\n",
    "            for j in range(4):\n",
    "                if Christoffel_Symbols(Rav[k], Rav[i], Rav[j], Metric) != 0 :\n",
    "                    display(Latex('$' + latex(Gamma[Rav[i],Rav[j]]**Rav[k]) + ' = ' + latex(Christoffel_Symbols(Rav[k], Rav[i], Rav[j], Metric)) + '$'))"
   ]
  },
  {
   "cell_type": "markdown",
   "metadata": {},
   "source": [
    "### Schwarschil Metric"
   ]
  },
  {
   "cell_type": "code",
   "execution_count": 15,
   "metadata": {},
   "outputs": [],
   "source": [
    "# Convention (-+++)\n",
    "S_Metric = np.array([[-(1-2*G*M/r), 0, 0, 0], [0, 1/(1-2*G*M/r), 0, 0], [0, 0, r**2, 0], [0, 0, 0, r**2*smp.sin(theta)**2]])\n",
    "S = smp.Matrix(S_Metric)"
   ]
  },
  {
   "cell_type": "code",
   "execution_count": 16,
   "metadata": {},
   "outputs": [
    {
     "data": {
      "text/latex": [
       "$\\displaystyle \\left[\\begin{matrix}\\frac{2 G M}{r} - 1 & 0 & 0 & 0\\\\0 & \\frac{1}{- \\frac{2 G M}{r} + 1} & 0 & 0\\\\0 & 0 & r^{2} & 0\\\\0 & 0 & 0 & r^{2} \\sin^{2}{\\left(θ \\right)}\\end{matrix}\\right]$"
      ],
      "text/plain": [
       "Matrix([\n",
       "[2*G*M/r - 1,                0,    0,              0],\n",
       "[          0, 1/(-2*G*M/r + 1),    0,              0],\n",
       "[          0,                0, r**2,              0],\n",
       "[          0,                0,    0, r**2*sin(θ)**2]])"
      ]
     },
     "execution_count": 16,
     "metadata": {},
     "output_type": "execute_result"
    }
   ],
   "source": [
    "S"
   ]
  },
  {
   "cell_type": "code",
   "execution_count": 17,
   "metadata": {},
   "outputs": [
    {
     "data": {
      "text/latex": [
       "$\\displaystyle \\left[\\begin{matrix}- \\frac{r}{- 2 G M + r} & 0 & 0 & 0\\\\0 & \\frac{- 2 G M + r}{r} & 0 & 0\\\\0 & 0 & \\frac{1}{r^{2}} & 0\\\\0 & 0 & 0 & \\frac{1}{r^{2} \\sin^{2}{\\left(θ \\right)}}\\end{matrix}\\right]$"
      ],
      "text/plain": [
       "Matrix([\n",
       "[-r/(-2*G*M + r),              0,       0,                  0],\n",
       "[              0, (-2*G*M + r)/r,       0,                  0],\n",
       "[              0,              0, r**(-2),                  0],\n",
       "[              0,              0,       0, 1/(r**2*sin(θ)**2)]])"
      ]
     },
     "execution_count": 17,
     "metadata": {},
     "output_type": "execute_result"
    }
   ],
   "source": [
    "S.inv()"
   ]
  },
  {
   "cell_type": "code",
   "execution_count": 18,
   "metadata": {},
   "outputs": [
    {
     "data": {
      "text/latex": [
       "${\\Gamma}_{t,r}^{t} = - \\frac{1.0 G M}{r \\left(2 G M - r\\right)}$"
      ],
      "text/plain": [
       "<IPython.core.display.Latex object>"
      ]
     },
     "metadata": {},
     "output_type": "display_data"
    },
    {
     "data": {
      "text/latex": [
       "${\\Gamma}_{r,t}^{t} = - \\frac{1.0 G M}{r \\left(2 G M - r\\right)}$"
      ],
      "text/plain": [
       "<IPython.core.display.Latex object>"
      ]
     },
     "metadata": {},
     "output_type": "display_data"
    },
    {
     "data": {
      "text/latex": [
       "${\\Gamma}_{t,t}^{r} = - \\frac{1.0 G M \\left(2 G M - r\\right)}{r^{3}}$"
      ],
      "text/plain": [
       "<IPython.core.display.Latex object>"
      ]
     },
     "metadata": {},
     "output_type": "display_data"
    },
    {
     "data": {
      "text/latex": [
       "${\\Gamma}_{r,r}^{r} = \\frac{1.0 G M}{r \\left(2 G M - r\\right)}$"
      ],
      "text/plain": [
       "<IPython.core.display.Latex object>"
      ]
     },
     "metadata": {},
     "output_type": "display_data"
    },
    {
     "data": {
      "text/latex": [
       "${\\Gamma}_{θ,θ}^{r} = 2.0 G M - 1.0 r$"
      ],
      "text/plain": [
       "<IPython.core.display.Latex object>"
      ]
     },
     "metadata": {},
     "output_type": "display_data"
    },
    {
     "data": {
      "text/latex": [
       "${\\Gamma}_{Φ,Φ}^{r} = \\left(2.0 G M - 1.0 r\\right) \\sin^{2}{\\left(θ \\right)}$"
      ],
      "text/plain": [
       "<IPython.core.display.Latex object>"
      ]
     },
     "metadata": {},
     "output_type": "display_data"
    },
    {
     "data": {
      "text/latex": [
       "${\\Gamma}_{r,θ}^{θ} = \\frac{1.0}{r}$"
      ],
      "text/plain": [
       "<IPython.core.display.Latex object>"
      ]
     },
     "metadata": {},
     "output_type": "display_data"
    },
    {
     "data": {
      "text/latex": [
       "${\\Gamma}_{θ,r}^{θ} = \\frac{1.0}{r}$"
      ],
      "text/plain": [
       "<IPython.core.display.Latex object>"
      ]
     },
     "metadata": {},
     "output_type": "display_data"
    },
    {
     "data": {
      "text/latex": [
       "${\\Gamma}_{Φ,Φ}^{θ} = - 0.5 \\sin{\\left(2 θ \\right)}$"
      ],
      "text/plain": [
       "<IPython.core.display.Latex object>"
      ]
     },
     "metadata": {},
     "output_type": "display_data"
    },
    {
     "data": {
      "text/latex": [
       "${\\Gamma}_{r,Φ}^{Φ} = \\frac{1.0}{r}$"
      ],
      "text/plain": [
       "<IPython.core.display.Latex object>"
      ]
     },
     "metadata": {},
     "output_type": "display_data"
    },
    {
     "data": {
      "text/latex": [
       "${\\Gamma}_{θ,Φ}^{Φ} = \\frac{1.0}{\\tan{\\left(θ \\right)}}$"
      ],
      "text/plain": [
       "<IPython.core.display.Latex object>"
      ]
     },
     "metadata": {},
     "output_type": "display_data"
    },
    {
     "data": {
      "text/latex": [
       "${\\Gamma}_{Φ,r}^{Φ} = \\frac{1.0}{r}$"
      ],
      "text/plain": [
       "<IPython.core.display.Latex object>"
      ]
     },
     "metadata": {},
     "output_type": "display_data"
    },
    {
     "data": {
      "text/latex": [
       "${\\Gamma}_{Φ,θ}^{Φ} = \\frac{1.0}{\\tan{\\left(θ \\right)}}$"
      ],
      "text/plain": [
       "<IPython.core.display.Latex object>"
      ]
     },
     "metadata": {},
     "output_type": "display_data"
    }
   ],
   "source": [
    "All_Christoffel_Symbols(S)"
   ]
  },
  {
   "cell_type": "markdown",
   "metadata": {},
   "source": [
    "### FLRW Metric"
   ]
  },
  {
   "cell_type": "code",
   "execution_count": 19,
   "metadata": {},
   "outputs": [],
   "source": [
    "# Convention (+---)\n",
    "FLRW_Metric = np.array([[c**2, 0, 0, 0], [0, -a(t)**2/(1-k*r**2), 0, 0], [0, 0, -a(t)**2*r**2, 0], [0, 0, 0, -a(t)**2*r**2*smp.sin(theta)**2]])\n",
    "\n",
    "FLRW = smp.Matrix(FLRW_Metric)"
   ]
  },
  {
   "cell_type": "code",
   "execution_count": 20,
   "metadata": {},
   "outputs": [
    {
     "data": {
      "text/latex": [
       "$\\displaystyle \\left[\\begin{matrix}c^{2} & 0 & 0 & 0\\\\0 & - \\frac{a^{2}{\\left(t \\right)}}{- k r^{2} + 1} & 0 & 0\\\\0 & 0 & - r^{2} a^{2}{\\left(t \\right)} & 0\\\\0 & 0 & 0 & - r^{2} a^{2}{\\left(t \\right)} \\sin^{2}{\\left(θ \\right)}\\end{matrix}\\right]$"
      ],
      "text/plain": [
       "Matrix([\n",
       "[c**2,                      0,             0,                       0],\n",
       "[   0, -a(t)**2/(-k*r**2 + 1),             0,                       0],\n",
       "[   0,                      0, -r**2*a(t)**2,                       0],\n",
       "[   0,                      0,             0, -r**2*a(t)**2*sin(θ)**2]])"
      ]
     },
     "execution_count": 20,
     "metadata": {},
     "output_type": "execute_result"
    }
   ],
   "source": [
    "FLRW"
   ]
  },
  {
   "cell_type": "code",
   "execution_count": 21,
   "metadata": {},
   "outputs": [
    {
     "data": {
      "text/latex": [
       "$\\displaystyle \\left[\\begin{matrix}\\frac{1}{c^{2}} & 0 & 0 & 0\\\\0 & \\frac{k r^{2} - 1}{a^{2}{\\left(t \\right)}} & 0 & 0\\\\0 & 0 & - \\frac{1}{r^{2} a^{2}{\\left(t \\right)}} & 0\\\\0 & 0 & 0 & - \\frac{1}{r^{2} a^{2}{\\left(t \\right)} \\sin^{2}{\\left(θ \\right)}}\\end{matrix}\\right]$"
      ],
      "text/plain": [
       "Matrix([\n",
       "[c**(-2),                    0,                 0,                           0],\n",
       "[      0, (k*r**2 - 1)/a(t)**2,                 0,                           0],\n",
       "[      0,                    0, -1/(r**2*a(t)**2),                           0],\n",
       "[      0,                    0,                 0, -1/(r**2*a(t)**2*sin(θ)**2)]])"
      ]
     },
     "execution_count": 21,
     "metadata": {},
     "output_type": "execute_result"
    }
   ],
   "source": [
    "FLRW.inv()"
   ]
  },
  {
   "cell_type": "code",
   "execution_count": 22,
   "metadata": {},
   "outputs": [
    {
     "data": {
      "text/latex": [
       "${\\Gamma}_{r,r}^{t} = - \\frac{1.0 a{\\left(t \\right)} \\frac{d}{d t} a{\\left(t \\right)}}{c^{2} \\left(k r^{2} - 1\\right)}$"
      ],
      "text/plain": [
       "<IPython.core.display.Latex object>"
      ]
     },
     "metadata": {},
     "output_type": "display_data"
    },
    {
     "data": {
      "text/latex": [
       "${\\Gamma}_{θ,θ}^{t} = \\frac{1.0 r^{2} a{\\left(t \\right)} \\frac{d}{d t} a{\\left(t \\right)}}{c^{2}}$"
      ],
      "text/plain": [
       "<IPython.core.display.Latex object>"
      ]
     },
     "metadata": {},
     "output_type": "display_data"
    },
    {
     "data": {
      "text/latex": [
       "${\\Gamma}_{Φ,Φ}^{t} = \\frac{1.0 r^{2} a{\\left(t \\right)} \\sin^{2}{\\left(θ \\right)} \\frac{d}{d t} a{\\left(t \\right)}}{c^{2}}$"
      ],
      "text/plain": [
       "<IPython.core.display.Latex object>"
      ]
     },
     "metadata": {},
     "output_type": "display_data"
    },
    {
     "data": {
      "text/latex": [
       "${\\Gamma}_{t,r}^{r} = \\frac{1.0 \\frac{d}{d t} a{\\left(t \\right)}}{a{\\left(t \\right)}}$"
      ],
      "text/plain": [
       "<IPython.core.display.Latex object>"
      ]
     },
     "metadata": {},
     "output_type": "display_data"
    },
    {
     "data": {
      "text/latex": [
       "${\\Gamma}_{r,t}^{r} = \\frac{1.0 \\frac{d}{d t} a{\\left(t \\right)}}{a{\\left(t \\right)}}$"
      ],
      "text/plain": [
       "<IPython.core.display.Latex object>"
      ]
     },
     "metadata": {},
     "output_type": "display_data"
    },
    {
     "data": {
      "text/latex": [
       "${\\Gamma}_{r,r}^{r} = - \\frac{1.0 k r}{k r^{2} - 1}$"
      ],
      "text/plain": [
       "<IPython.core.display.Latex object>"
      ]
     },
     "metadata": {},
     "output_type": "display_data"
    },
    {
     "data": {
      "text/latex": [
       "${\\Gamma}_{θ,θ}^{r} = 1.0 r \\left(k r^{2} - 1\\right)$"
      ],
      "text/plain": [
       "<IPython.core.display.Latex object>"
      ]
     },
     "metadata": {},
     "output_type": "display_data"
    },
    {
     "data": {
      "text/latex": [
       "${\\Gamma}_{Φ,Φ}^{r} = 1.0 r \\left(k r^{2} - 1\\right) \\sin^{2}{\\left(θ \\right)}$"
      ],
      "text/plain": [
       "<IPython.core.display.Latex object>"
      ]
     },
     "metadata": {},
     "output_type": "display_data"
    },
    {
     "data": {
      "text/latex": [
       "${\\Gamma}_{t,θ}^{θ} = \\frac{1.0 \\frac{d}{d t} a{\\left(t \\right)}}{a{\\left(t \\right)}}$"
      ],
      "text/plain": [
       "<IPython.core.display.Latex object>"
      ]
     },
     "metadata": {},
     "output_type": "display_data"
    },
    {
     "data": {
      "text/latex": [
       "${\\Gamma}_{r,θ}^{θ} = \\frac{1.0}{r}$"
      ],
      "text/plain": [
       "<IPython.core.display.Latex object>"
      ]
     },
     "metadata": {},
     "output_type": "display_data"
    },
    {
     "data": {
      "text/latex": [
       "${\\Gamma}_{θ,t}^{θ} = \\frac{1.0 \\frac{d}{d t} a{\\left(t \\right)}}{a{\\left(t \\right)}}$"
      ],
      "text/plain": [
       "<IPython.core.display.Latex object>"
      ]
     },
     "metadata": {},
     "output_type": "display_data"
    },
    {
     "data": {
      "text/latex": [
       "${\\Gamma}_{θ,r}^{θ} = \\frac{1.0}{r}$"
      ],
      "text/plain": [
       "<IPython.core.display.Latex object>"
      ]
     },
     "metadata": {},
     "output_type": "display_data"
    },
    {
     "data": {
      "text/latex": [
       "${\\Gamma}_{Φ,Φ}^{θ} = - 0.5 \\sin{\\left(2 θ \\right)}$"
      ],
      "text/plain": [
       "<IPython.core.display.Latex object>"
      ]
     },
     "metadata": {},
     "output_type": "display_data"
    },
    {
     "data": {
      "text/latex": [
       "${\\Gamma}_{t,Φ}^{Φ} = \\frac{1.0 \\frac{d}{d t} a{\\left(t \\right)}}{a{\\left(t \\right)}}$"
      ],
      "text/plain": [
       "<IPython.core.display.Latex object>"
      ]
     },
     "metadata": {},
     "output_type": "display_data"
    },
    {
     "data": {
      "text/latex": [
       "${\\Gamma}_{r,Φ}^{Φ} = \\frac{1.0}{r}$"
      ],
      "text/plain": [
       "<IPython.core.display.Latex object>"
      ]
     },
     "metadata": {},
     "output_type": "display_data"
    },
    {
     "data": {
      "text/latex": [
       "${\\Gamma}_{θ,Φ}^{Φ} = \\frac{1.0}{\\tan{\\left(θ \\right)}}$"
      ],
      "text/plain": [
       "<IPython.core.display.Latex object>"
      ]
     },
     "metadata": {},
     "output_type": "display_data"
    },
    {
     "data": {
      "text/latex": [
       "${\\Gamma}_{Φ,t}^{Φ} = \\frac{1.0 \\frac{d}{d t} a{\\left(t \\right)}}{a{\\left(t \\right)}}$"
      ],
      "text/plain": [
       "<IPython.core.display.Latex object>"
      ]
     },
     "metadata": {},
     "output_type": "display_data"
    },
    {
     "data": {
      "text/latex": [
       "${\\Gamma}_{Φ,r}^{Φ} = \\frac{1.0}{r}$"
      ],
      "text/plain": [
       "<IPython.core.display.Latex object>"
      ]
     },
     "metadata": {},
     "output_type": "display_data"
    },
    {
     "data": {
      "text/latex": [
       "${\\Gamma}_{Φ,θ}^{Φ} = \\frac{1.0}{\\tan{\\left(θ \\right)}}$"
      ],
      "text/plain": [
       "<IPython.core.display.Latex object>"
      ]
     },
     "metadata": {},
     "output_type": "display_data"
    }
   ],
   "source": [
    "All_Christoffel_Symbols(FLRW)"
   ]
  },
  {
   "cell_type": "code",
   "execution_count": null,
   "metadata": {},
   "outputs": [],
   "source": []
  }
 ],
 "metadata": {
  "kernelspec": {
   "display_name": "Python 3",
   "language": "python",
   "name": "python3"
  },
  "language_info": {
   "codemirror_mode": {
    "name": "ipython",
    "version": 3
   },
   "file_extension": ".py",
   "mimetype": "text/x-python",
   "name": "python",
   "nbconvert_exporter": "python",
   "pygments_lexer": "ipython3",
   "version": "3.10.11"
  }
 },
 "nbformat": 4,
 "nbformat_minor": 2
}
