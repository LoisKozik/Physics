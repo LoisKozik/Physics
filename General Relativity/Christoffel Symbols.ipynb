{
 "cells": [
  {
   "cell_type": "code",
   "execution_count": 2,
   "metadata": {},
   "outputs": [],
   "source": [
    "import numpy as np\n",
    "import sympy as smp\n",
    "from sympy import *\n",
    "from IPython.display import display, Latex"
   ]
  },
  {
   "cell_type": "code",
   "execution_count": 3,
   "metadata": {},
   "outputs": [],
   "source": [
    "G, M, t, r, theta, phi, k, c = smp.symbols('G M t r θ Φ k c')\n",
    "a = smp.Function('a')\n",
    "a_dot = smp.Function('ȧ')\n",
    "\n",
    "Gamma = IndexedBase(\"Gamma\")\n",
    "Riemann = IndexedBase(\"R\")"
   ]
  },
  {
   "cell_type": "code",
   "execution_count": 4,
   "metadata": {},
   "outputs": [],
   "source": [
    "Var = {\n",
    "    t : 0,\n",
    "    r : 1,\n",
    "    theta : 2,\n",
    "    phi : 3\n",
    "}\n",
    "\n",
    "Rav = {\n",
    "    0 : t,\n",
    "    1 : r,\n",
    "    2 : theta,\n",
    "    3 : phi\n",
    "}"
   ]
  },
  {
   "cell_type": "markdown",
   "metadata": {},
   "source": [
    "# Computing Christoffel Symbols"
   ]
  },
  {
   "cell_type": "markdown",
   "metadata": {},
   "source": [
    "### $${\\displaystyle \\Gamma ^{m}{}_{ij}={\\frac {1}{2}}g^{ml}\\left({\\frac {\\partial g_{il}}{\\partial x^{j}}}+{\\frac {\\partial g_{lj }}{\\partial x^{i}}}-{\\frac {\\partial g_{ji }}{\\partial x^{l}}}\\right)={1 \\over 2}g^{ml}(g_{il,j }+g_{lj ,i}-g_{ji ,l})\\ }$$"
   ]
  },
  {
   "cell_type": "code",
   "execution_count": 32,
   "metadata": {},
   "outputs": [],
   "source": [
    "# Compute Christoffel Symbols\n",
    "def Christoffel_Symbols(m, i, j, Metric):\n",
    "    inv_Metric = Metric.inv()\n",
    "    C = 0\n",
    "    for l in range(4):\n",
    "        #print(1/2*inv_Metric[Var[m], l])\n",
    "        C += 1/2*inv_Metric[Var[m], l]*(smp.diff(Metric[Var[i],Var[m]], j)+smp.diff(Metric[Var[m],Var[j]], i)-smp.diff(Metric[Var[j],Var[i]], m))\n",
    "    return smp.nsimplify(C)"
   ]
  },
  {
   "cell_type": "code",
   "execution_count": 33,
   "metadata": {},
   "outputs": [],
   "source": [
    "def All_Christoffel_Symbols(Metric):\n",
    "    All_C = np.zeros((4,4,4), dtype=object)\n",
    "    for k in range(4):\n",
    "        for i in range(4):\n",
    "            for j in range(4):\n",
    "                c = Christoffel_Symbols(Rav[k], Rav[i], Rav[j], Metric)\n",
    "                if c != 0 :\n",
    "                    All_C[k,i,j] = smp.nsimplify(c)\n",
    "                    display(Latex('$' + latex(Gamma[Rav[i],Rav[j]]**Rav[k]) + ' = ' + latex(c.subs(smp.diff(a(t),t), a_dot(t))) + '$'))\n",
    "    \n",
    "    return All_C"
   ]
  },
  {
   "cell_type": "code",
   "execution_count": null,
   "metadata": {},
   "outputs": [],
   "source": []
  },
  {
   "cell_type": "markdown",
   "metadata": {},
   "source": [
    "### Minkowski Metric"
   ]
  },
  {
   "cell_type": "code",
   "execution_count": 7,
   "metadata": {},
   "outputs": [],
   "source": [
    "# Convention (-+++)\n",
    "Mink_Metric = np.array([[-1, 0, 0, 0], [0, 1, 0, 0], [0, 0, 1, 0], [0, 0, 0, 1]])\n",
    "Mink = smp.Matrix(Mink_Metric)"
   ]
  },
  {
   "cell_type": "code",
   "execution_count": 8,
   "metadata": {},
   "outputs": [
    {
     "data": {
      "text/latex": [
       "$\\displaystyle \\left[\\begin{matrix}-1 & 0 & 0 & 0\\\\0 & 1 & 0 & 0\\\\0 & 0 & 1 & 0\\\\0 & 0 & 0 & 1\\end{matrix}\\right]$"
      ],
      "text/plain": [
       "Matrix([\n",
       "[-1, 0, 0, 0],\n",
       "[ 0, 1, 0, 0],\n",
       "[ 0, 0, 1, 0],\n",
       "[ 0, 0, 0, 1]])"
      ]
     },
     "execution_count": 8,
     "metadata": {},
     "output_type": "execute_result"
    }
   ],
   "source": [
    "Mink"
   ]
  },
  {
   "cell_type": "code",
   "execution_count": 9,
   "metadata": {},
   "outputs": [
    {
     "data": {
      "text/latex": [
       "$\\displaystyle \\left[\\begin{matrix}-1 & 0 & 0 & 0\\\\0 & 1 & 0 & 0\\\\0 & 0 & 1 & 0\\\\0 & 0 & 0 & 1\\end{matrix}\\right]$"
      ],
      "text/plain": [
       "Matrix([\n",
       "[-1, 0, 0, 0],\n",
       "[ 0, 1, 0, 0],\n",
       "[ 0, 0, 1, 0],\n",
       "[ 0, 0, 0, 1]])"
      ]
     },
     "execution_count": 9,
     "metadata": {},
     "output_type": "execute_result"
    }
   ],
   "source": [
    "Mink.inv()"
   ]
  },
  {
   "cell_type": "code",
   "execution_count": 10,
   "metadata": {},
   "outputs": [
    {
     "data": {
      "text/plain": [
       "array([[[0, 0, 0, 0],\n",
       "        [0, 0, 0, 0],\n",
       "        [0, 0, 0, 0],\n",
       "        [0, 0, 0, 0]],\n",
       "\n",
       "       [[0, 0, 0, 0],\n",
       "        [0, 0, 0, 0],\n",
       "        [0, 0, 0, 0],\n",
       "        [0, 0, 0, 0]],\n",
       "\n",
       "       [[0, 0, 0, 0],\n",
       "        [0, 0, 0, 0],\n",
       "        [0, 0, 0, 0],\n",
       "        [0, 0, 0, 0]],\n",
       "\n",
       "       [[0, 0, 0, 0],\n",
       "        [0, 0, 0, 0],\n",
       "        [0, 0, 0, 0],\n",
       "        [0, 0, 0, 0]]], dtype=object)"
      ]
     },
     "execution_count": 10,
     "metadata": {},
     "output_type": "execute_result"
    }
   ],
   "source": [
    "All_Christoffel_Symbols(Mink)"
   ]
  },
  {
   "cell_type": "markdown",
   "metadata": {},
   "source": [
    "### Schwarschil Metric"
   ]
  },
  {
   "cell_type": "code",
   "execution_count": 27,
   "metadata": {},
   "outputs": [],
   "source": [
    "# Convention (-+++)\n",
    "S_Metric = np.zeros((4,4))\n",
    "S = smp.Matrix(S_Metric)\n",
    "\n",
    "S[0,0] = -(1-2*G*M/r)\n",
    "S[1,1] = 1/(1-2*G*M/r)\n",
    "S[2,2] = r**2\n",
    "S[3,3] = r**2*smp.sin(theta)**2\n",
    "\n",
    "S = smp.nsimplify(S)"
   ]
  },
  {
   "cell_type": "code",
   "execution_count": 28,
   "metadata": {},
   "outputs": [
    {
     "data": {
      "text/latex": [
       "$\\displaystyle \\left[\\begin{matrix}\\frac{2 G M}{r} - 1 & 0 & 0 & 0\\\\0 & \\frac{1}{- \\frac{2 G M}{r} + 1} & 0 & 0\\\\0 & 0 & r^{2} & 0\\\\0 & 0 & 0 & r^{2} \\sin^{2}{\\left(θ \\right)}\\end{matrix}\\right]$"
      ],
      "text/plain": [
       "Matrix([\n",
       "[2*G*M/r - 1,                0,    0,              0],\n",
       "[          0, 1/(-2*G*M/r + 1),    0,              0],\n",
       "[          0,                0, r**2,              0],\n",
       "[          0,                0,    0, r**2*sin(θ)**2]])"
      ]
     },
     "execution_count": 28,
     "metadata": {},
     "output_type": "execute_result"
    }
   ],
   "source": [
    "S"
   ]
  },
  {
   "cell_type": "code",
   "execution_count": 13,
   "metadata": {},
   "outputs": [
    {
     "data": {
      "text/latex": [
       "$\\displaystyle \\left[\\begin{matrix}- \\frac{r}{- 2 G M + r} & 0 & 0 & 0\\\\0 & \\frac{- 2 G M + r}{r} & 0 & 0\\\\0 & 0 & \\frac{1}{r^{2}} & 0\\\\0 & 0 & 0 & \\frac{1}{r^{2} \\sin^{2}{\\left(θ \\right)}}\\end{matrix}\\right]$"
      ],
      "text/plain": [
       "Matrix([\n",
       "[-r/(-2*G*M + r),              0,       0,                  0],\n",
       "[              0, (-2*G*M + r)/r,       0,                  0],\n",
       "[              0,              0, r**(-2),                  0],\n",
       "[              0,              0,       0, 1/(r**2*sin(θ)**2)]])"
      ]
     },
     "execution_count": 13,
     "metadata": {},
     "output_type": "execute_result"
    }
   ],
   "source": [
    "S.inv()"
   ]
  },
  {
   "cell_type": "code",
   "execution_count": 34,
   "metadata": {},
   "outputs": [
    {
     "data": {
      "text/latex": [
       "${\\Gamma}_{t,r}^{t} = \\frac{G M}{r \\left(- 2 G M + r\\right)}$"
      ],
      "text/plain": [
       "<IPython.core.display.Latex object>"
      ]
     },
     "metadata": {},
     "output_type": "display_data"
    },
    {
     "data": {
      "text/latex": [
       "${\\Gamma}_{r,t}^{t} = \\frac{G M}{r \\left(- 2 G M + r\\right)}$"
      ],
      "text/plain": [
       "<IPython.core.display.Latex object>"
      ]
     },
     "metadata": {},
     "output_type": "display_data"
    },
    {
     "data": {
      "text/latex": [
       "${\\Gamma}_{t,t}^{r} = \\frac{G M \\left(- 2 G M + r\\right)}{r^{3}}$"
      ],
      "text/plain": [
       "<IPython.core.display.Latex object>"
      ]
     },
     "metadata": {},
     "output_type": "display_data"
    },
    {
     "data": {
      "text/latex": [
       "${\\Gamma}_{r,r}^{r} = - \\frac{G M \\left(- 2 G M + r\\right)}{r^{3} \\left(- \\frac{2 G M}{r} + 1\\right)^{2}}$"
      ],
      "text/plain": [
       "<IPython.core.display.Latex object>"
      ]
     },
     "metadata": {},
     "output_type": "display_data"
    },
    {
     "data": {
      "text/latex": [
       "${\\Gamma}_{θ,θ}^{r} = 2 G M - r$"
      ],
      "text/plain": [
       "<IPython.core.display.Latex object>"
      ]
     },
     "metadata": {},
     "output_type": "display_data"
    },
    {
     "data": {
      "text/latex": [
       "${\\Gamma}_{Φ,Φ}^{r} = - \\left(- 2 G M + r\\right) \\sin^{2}{\\left(θ \\right)}$"
      ],
      "text/plain": [
       "<IPython.core.display.Latex object>"
      ]
     },
     "metadata": {},
     "output_type": "display_data"
    },
    {
     "data": {
      "text/latex": [
       "${\\Gamma}_{r,θ}^{θ} = \\frac{1}{r}$"
      ],
      "text/plain": [
       "<IPython.core.display.Latex object>"
      ]
     },
     "metadata": {},
     "output_type": "display_data"
    },
    {
     "data": {
      "text/latex": [
       "${\\Gamma}_{θ,r}^{θ} = \\frac{1}{r}$"
      ],
      "text/plain": [
       "<IPython.core.display.Latex object>"
      ]
     },
     "metadata": {},
     "output_type": "display_data"
    },
    {
     "data": {
      "text/latex": [
       "${\\Gamma}_{Φ,Φ}^{θ} = - \\sin{\\left(θ \\right)} \\cos{\\left(θ \\right)}$"
      ],
      "text/plain": [
       "<IPython.core.display.Latex object>"
      ]
     },
     "metadata": {},
     "output_type": "display_data"
    },
    {
     "data": {
      "text/latex": [
       "${\\Gamma}_{r,Φ}^{Φ} = \\frac{1}{r}$"
      ],
      "text/plain": [
       "<IPython.core.display.Latex object>"
      ]
     },
     "metadata": {},
     "output_type": "display_data"
    },
    {
     "data": {
      "text/latex": [
       "${\\Gamma}_{θ,Φ}^{Φ} = \\frac{\\cos{\\left(θ \\right)}}{\\sin{\\left(θ \\right)}}$"
      ],
      "text/plain": [
       "<IPython.core.display.Latex object>"
      ]
     },
     "metadata": {},
     "output_type": "display_data"
    },
    {
     "data": {
      "text/latex": [
       "${\\Gamma}_{Φ,r}^{Φ} = \\frac{1}{r}$"
      ],
      "text/plain": [
       "<IPython.core.display.Latex object>"
      ]
     },
     "metadata": {},
     "output_type": "display_data"
    },
    {
     "data": {
      "text/latex": [
       "${\\Gamma}_{Φ,θ}^{Φ} = \\frac{\\cos{\\left(θ \\right)}}{\\sin{\\left(θ \\right)}}$"
      ],
      "text/plain": [
       "<IPython.core.display.Latex object>"
      ]
     },
     "metadata": {},
     "output_type": "display_data"
    }
   ],
   "source": [
    "All_C_S = All_Christoffel_Symbols(S)"
   ]
  },
  {
   "cell_type": "markdown",
   "metadata": {},
   "source": [
    "### FLRW Metric"
   ]
  },
  {
   "cell_type": "code",
   "execution_count": 41,
   "metadata": {},
   "outputs": [],
   "source": [
    "# Convention (+---)\n",
    "FLRW_Metric = np.zeros((4,4))\n",
    "FLRW = smp.Matrix(FLRW_Metric)\n",
    "\n",
    "FLRW[0,0] = c**2\n",
    "FLRW[1,1] = -a(t)**2/(1-k*r**2)\n",
    "FLRW[2,2] = -a(t)**2*r**2\n",
    "FLRW[3,3] = -a(t)**2*r**2*smp.sin(theta)**2\n",
    "\n",
    "FLRW = smp.nsimplify(FLRW)"
   ]
  },
  {
   "cell_type": "code",
   "execution_count": 42,
   "metadata": {},
   "outputs": [
    {
     "data": {
      "text/latex": [
       "$\\displaystyle \\left[\\begin{matrix}c^{2} & 0 & 0 & 0\\\\0 & - \\frac{a^{2}{\\left(t \\right)}}{- k r^{2} + 1} & 0 & 0\\\\0 & 0 & - r^{2} a^{2}{\\left(t \\right)} & 0\\\\0 & 0 & 0 & - r^{2} a^{2}{\\left(t \\right)} \\sin^{2}{\\left(θ \\right)}\\end{matrix}\\right]$"
      ],
      "text/plain": [
       "Matrix([\n",
       "[c**2,                      0,             0,                       0],\n",
       "[   0, -a(t)**2/(-k*r**2 + 1),             0,                       0],\n",
       "[   0,                      0, -r**2*a(t)**2,                       0],\n",
       "[   0,                      0,             0, -r**2*a(t)**2*sin(θ)**2]])"
      ]
     },
     "execution_count": 42,
     "metadata": {},
     "output_type": "execute_result"
    }
   ],
   "source": [
    "FLRW"
   ]
  },
  {
   "cell_type": "code",
   "execution_count": 43,
   "metadata": {},
   "outputs": [
    {
     "data": {
      "text/latex": [
       "$\\displaystyle \\left[\\begin{matrix}\\frac{1}{c^{2}} & 0 & 0 & 0\\\\0 & \\frac{k r^{2} - 1}{a^{2}{\\left(t \\right)}} & 0 & 0\\\\0 & 0 & - \\frac{1}{r^{2} a^{2}{\\left(t \\right)}} & 0\\\\0 & 0 & 0 & - \\frac{1}{r^{2} a^{2}{\\left(t \\right)} \\sin^{2}{\\left(θ \\right)}}\\end{matrix}\\right]$"
      ],
      "text/plain": [
       "Matrix([\n",
       "[c**(-2),                    0,                 0,                           0],\n",
       "[      0, (k*r**2 - 1)/a(t)**2,                 0,                           0],\n",
       "[      0,                    0, -1/(r**2*a(t)**2),                           0],\n",
       "[      0,                    0,                 0, -1/(r**2*a(t)**2*sin(θ)**2)]])"
      ]
     },
     "execution_count": 43,
     "metadata": {},
     "output_type": "execute_result"
    }
   ],
   "source": [
    "FLRW.inv()"
   ]
  },
  {
   "cell_type": "code",
   "execution_count": 97,
   "metadata": {},
   "outputs": [
    {
     "data": {
      "text/latex": [
       "${\\Gamma}_{r,r}^{t} = \\frac{a{\\left(t \\right)} ȧ{\\left(t \\right)}}{c^{2} \\left(- k r^{2} + 1\\right)}$"
      ],
      "text/plain": [
       "<IPython.core.display.Latex object>"
      ]
     },
     "metadata": {},
     "output_type": "display_data"
    },
    {
     "data": {
      "text/latex": [
       "${\\Gamma}_{θ,θ}^{t} = \\frac{r^{2} a{\\left(t \\right)} ȧ{\\left(t \\right)}}{c^{2}}$"
      ],
      "text/plain": [
       "<IPython.core.display.Latex object>"
      ]
     },
     "metadata": {},
     "output_type": "display_data"
    },
    {
     "data": {
      "text/latex": [
       "${\\Gamma}_{Φ,Φ}^{t} = \\frac{r^{2} a{\\left(t \\right)} ȧ{\\left(t \\right)} \\sin^{2}{\\left(θ \\right)}}{c^{2}}$"
      ],
      "text/plain": [
       "<IPython.core.display.Latex object>"
      ]
     },
     "metadata": {},
     "output_type": "display_data"
    },
    {
     "data": {
      "text/latex": [
       "${\\Gamma}_{t,r}^{r} = - \\frac{\\left(k r^{2} - 1\\right) ȧ{\\left(t \\right)}}{\\left(- k r^{2} + 1\\right) a{\\left(t \\right)}}$"
      ],
      "text/plain": [
       "<IPython.core.display.Latex object>"
      ]
     },
     "metadata": {},
     "output_type": "display_data"
    },
    {
     "data": {
      "text/latex": [
       "${\\Gamma}_{r,t}^{r} = - \\frac{\\left(k r^{2} - 1\\right) ȧ{\\left(t \\right)}}{\\left(- k r^{2} + 1\\right) a{\\left(t \\right)}}$"
      ],
      "text/plain": [
       "<IPython.core.display.Latex object>"
      ]
     },
     "metadata": {},
     "output_type": "display_data"
    },
    {
     "data": {
      "text/latex": [
       "${\\Gamma}_{r,r}^{r} = - \\frac{k r \\left(k r^{2} - 1\\right)}{\\left(- k r^{2} + 1\\right)^{2}}$"
      ],
      "text/plain": [
       "<IPython.core.display.Latex object>"
      ]
     },
     "metadata": {},
     "output_type": "display_data"
    },
    {
     "data": {
      "text/latex": [
       "${\\Gamma}_{θ,θ}^{r} = r \\left(k r^{2} - 1\\right)$"
      ],
      "text/plain": [
       "<IPython.core.display.Latex object>"
      ]
     },
     "metadata": {},
     "output_type": "display_data"
    },
    {
     "data": {
      "text/latex": [
       "${\\Gamma}_{Φ,Φ}^{r} = r \\left(k r^{2} - 1\\right) \\sin^{2}{\\left(θ \\right)}$"
      ],
      "text/plain": [
       "<IPython.core.display.Latex object>"
      ]
     },
     "metadata": {},
     "output_type": "display_data"
    },
    {
     "data": {
      "text/latex": [
       "${\\Gamma}_{t,θ}^{θ} = \\frac{ȧ{\\left(t \\right)}}{a{\\left(t \\right)}}$"
      ],
      "text/plain": [
       "<IPython.core.display.Latex object>"
      ]
     },
     "metadata": {},
     "output_type": "display_data"
    },
    {
     "data": {
      "text/latex": [
       "${\\Gamma}_{r,θ}^{θ} = \\frac{1}{r}$"
      ],
      "text/plain": [
       "<IPython.core.display.Latex object>"
      ]
     },
     "metadata": {},
     "output_type": "display_data"
    },
    {
     "data": {
      "text/latex": [
       "${\\Gamma}_{θ,t}^{θ} = \\frac{ȧ{\\left(t \\right)}}{a{\\left(t \\right)}}$"
      ],
      "text/plain": [
       "<IPython.core.display.Latex object>"
      ]
     },
     "metadata": {},
     "output_type": "display_data"
    },
    {
     "data": {
      "text/latex": [
       "${\\Gamma}_{θ,r}^{θ} = \\frac{1}{r}$"
      ],
      "text/plain": [
       "<IPython.core.display.Latex object>"
      ]
     },
     "metadata": {},
     "output_type": "display_data"
    },
    {
     "data": {
      "text/latex": [
       "${\\Gamma}_{Φ,Φ}^{θ} = - \\sin{\\left(θ \\right)} \\cos{\\left(θ \\right)}$"
      ],
      "text/plain": [
       "<IPython.core.display.Latex object>"
      ]
     },
     "metadata": {},
     "output_type": "display_data"
    },
    {
     "data": {
      "text/latex": [
       "${\\Gamma}_{t,Φ}^{Φ} = \\frac{ȧ{\\left(t \\right)}}{a{\\left(t \\right)}}$"
      ],
      "text/plain": [
       "<IPython.core.display.Latex object>"
      ]
     },
     "metadata": {},
     "output_type": "display_data"
    },
    {
     "data": {
      "text/latex": [
       "${\\Gamma}_{r,Φ}^{Φ} = \\frac{1}{r}$"
      ],
      "text/plain": [
       "<IPython.core.display.Latex object>"
      ]
     },
     "metadata": {},
     "output_type": "display_data"
    },
    {
     "data": {
      "text/latex": [
       "${\\Gamma}_{θ,Φ}^{Φ} = \\frac{\\cos{\\left(θ \\right)}}{\\sin{\\left(θ \\right)}}$"
      ],
      "text/plain": [
       "<IPython.core.display.Latex object>"
      ]
     },
     "metadata": {},
     "output_type": "display_data"
    },
    {
     "data": {
      "text/latex": [
       "${\\Gamma}_{Φ,t}^{Φ} = \\frac{ȧ{\\left(t \\right)}}{a{\\left(t \\right)}}$"
      ],
      "text/plain": [
       "<IPython.core.display.Latex object>"
      ]
     },
     "metadata": {},
     "output_type": "display_data"
    },
    {
     "data": {
      "text/latex": [
       "${\\Gamma}_{Φ,r}^{Φ} = \\frac{1}{r}$"
      ],
      "text/plain": [
       "<IPython.core.display.Latex object>"
      ]
     },
     "metadata": {},
     "output_type": "display_data"
    },
    {
     "data": {
      "text/latex": [
       "${\\Gamma}_{Φ,θ}^{Φ} = \\frac{\\cos{\\left(θ \\right)}}{\\sin{\\left(θ \\right)}}$"
      ],
      "text/plain": [
       "<IPython.core.display.Latex object>"
      ]
     },
     "metadata": {},
     "output_type": "display_data"
    }
   ],
   "source": [
    "All_C_FLRW = All_Christoffel_Symbols(FLRW)"
   ]
  }
 ],
 "metadata": {
  "kernelspec": {
   "display_name": "Python 3",
   "language": "python",
   "name": "python3"
  },
  "language_info": {
   "codemirror_mode": {
    "name": "ipython",
    "version": 3
   },
   "file_extension": ".py",
   "mimetype": "text/x-python",
   "name": "python",
   "nbconvert_exporter": "python",
   "pygments_lexer": "ipython3",
   "version": "3.10.11"
  }
 },
 "nbformat": 4,
 "nbformat_minor": 2
}
